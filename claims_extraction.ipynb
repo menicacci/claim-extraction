{
 "cells": [
  {
   "cell_type": "code",
   "execution_count": 1,
   "outputs": [],
   "source": [
    "import concurrent.futures\n",
    "from scripts import request\n",
    "from scripts import table"
   ],
   "metadata": {
    "collapsed": false,
    "pycharm": {
     "name": "#%%\n"
    }
   }
  },
  {
   "cell_type": "code",
   "execution_count": 2,
   "outputs": [],
   "source": [
    "def run(connection_data: dict, messages_file_paths: dict, articles_tables: dict, output_path: str, num_threads: int):\n",
    "    clients = [request.init_client(connection_data) for _ in range(num_threads)]\n",
    "\n",
    "    original_prompt = f'''\n",
    "        SYSTEM 1: \\n{request.read_file(messages_file_paths['system_1'])}\\n\\n\n",
    "        USER 1:\\n{request.read_file(messages_file_paths['user_1'])}\\n\\n\n",
    "        ASSISTANT:\\n{request.read_file(messages_file_paths['assistant'])}\\n\\n\n",
    "        USER 2:\\n{request.read_file(messages_file_paths['user_2'])}\\n\\n\n",
    "        SYSTEM 2:\\n{request.read_file(messages_file_paths['system_2'])}\\n\\n\n",
    "    '''\n",
    "\n",
    "    with open(output_path + '/prompt.txt', \"w\") as text_file:\n",
    "        text_file.write(original_prompt)\n",
    "\n",
    "    progress = 0\n",
    "    with concurrent.futures.ThreadPoolExecutor(max_workers=num_threads) as executor:\n",
    "        for article_id, article_tables in articles_tables.items():\n",
    "            for index, article_table in enumerate(article_tables):\n",
    "                if not article_table['processed']:\n",
    "                    executor.submit(\n",
    "                        request.extract_claims,\n",
    "                        clients[progress % num_threads],\n",
    "                        article_table,\n",
    "                        f\"{article_id}_{index}\",\n",
    "                        messages_file_paths,\n",
    "                        output_path\n",
    "                    )\n",
    "\n",
    "                    progress += 1\n",
    "\n",
    "    for client in clients:\n",
    "        client.close()\n",
    "\n",
    "    return"
   ],
   "metadata": {
    "collapsed": false,
    "pycharm": {
     "name": "#%%\n"
    }
   }
  },
  {
   "cell_type": "code",
   "execution_count": 3,
   "outputs": [],
   "source": [
    "connection_infos = request.extract_infos('private.json')\n",
    "\n",
    "msgs_base_path = 'messages/CS'\n",
    "\n",
    "msgs_file_paths = {\n",
    "    'system_1':  f'{msgs_base_path}/system_1.txt',\n",
    "    'system_2':  f'{msgs_base_path}/system_2.txt',\n",
    "    'user_1':    f'{msgs_base_path}/user_1.txt',\n",
    "    'user_2':    f'{msgs_base_path}/user_2.txt',\n",
    "    'assistant': f'{msgs_base_path}/assistant.txt'\n",
    "}\n",
    "\n",
    "output_folder = 'experiments/output/cs_dataset/6'\n",
    "request.check_path(output_folder)\n",
    "\n",
    "tables_file_path = 'experiments/extracted_tables/cs_tables.json'\n",
    "\n",
    "table.check_processed_tables(tables_file_path, output_folder + \"/answers\")"
   ],
   "metadata": {
    "collapsed": false,
    "pycharm": {
     "name": "#%%\n"
    }
   }
  },
  {
   "cell_type": "code",
   "execution_count": 6,
   "outputs": [
    {
     "name": "stdout",
     "output_type": "stream",
     "text": [
      "\t Saved prompt at: experiments/output/cs_dataset/6/prompts\\2307.01231_2.txt\n",
      "Sending request for: [2307.01231_2]\n",
      "<{<Dataset, Ds1>, <Source1, DBLP>, <Source2, ACM>, <Number of Records D1, 2616>, <Number of Records D2, 2294>, <Number of Attributes, 4>, <Number of Labelled Instances in Training Set, 7417>, <Number of Labelled Instances in Testing Set, 2473>, <Number of Positive Instances in Training Set, 1332>, <Number of Positive Instances in Testing Set, 444>, <Number of Negative Instances in Training Set, 6085>, <Number of Negative Instances in Testing Set, 2029>, <Class Imbalance Ratio, 18.0%>}, Dataset, Ds1>\n",
      "\n",
      "<{<Dataset, Ds2>, <Source1, DBLP>, <Source2, Google Scholar>, <Number of Records D1, 2616>, <Number of Records D2, 64263>, <Number of Attributes, 4>, <Number of Labelled Instances in Training Set, 17223>, <Number of Labelled Instances in Testing Set, 5742>, <Number of Positive Instances in Training Set, 3207>, <Number of Positive Instances in Testing Set, 1070>, <Number of Negative Instances in Training Set, 14016>, <Number of Negative Instances in Testing Set, 4672>, <Class Imbalance Ratio, 18.6%>}, Dataset, Ds2>\n",
      "\n",
      "<{<Dataset, Ds3>, <Source1, iTunes>, <Source2, Amazon>, <Number of Records D1, 6907>, <Number of Records D2, 55923>, <Number of Attributes, 8>, <Number of Labelled Instances in Training Set, 321>, <Number of Labelled Instances in Testing Set, 109>, <Number of Positive Instances in Training Set, 78>, <Number of Positive Instances in Testing Set, 27>, <Number of Negative Instances in Training Set, 243>, <Number of Negative Instances in Testing Set, 82>, <Class Imbalance Ratio, 24.3%>}, Dataset, Ds3>\n",
      "\n",
      "<{<Dataset, Ds4>, <Source1, Walmart>, <Source2, Amazon>, <Number of Records D1, 2554>, <Number of Records D2, 22074>, <Number of Attributes, 5>, <Number of Labelled Instances in Training Set, 6144>, <Number of Labelled Instances in Testing Set, 2049>, <Number of Positive Instances in Training Set, 576>, <Number of Positive Instances in Testing Set, 193>, <Number of Negative Instances in Training Set, 5568>, <Number of Negative Instances in Testing Set, 1856>, <Class Imbalance Ratio, 9.4%>}, Dataset, Ds4>\n",
      "\n",
      "<{<Dataset, Ds5>, <Source1, BeerAdvo>, <Source2, RateBeer>, <Number of Records D1, 4345>, <Number of Records D2, 3000>, <Number of Attributes, 4>, <Number of Labelled Instances in Training Set, 268>, <Number of Labelled Instances in Testing Set, 91>, <Number of Positive Instances in Training Set, 40>, <Number of Positive Instances in Testing Set, 14>, <Number of Negative Instances in Training Set, 228>, <Number of Negative Instances in Testing Set, 77>, <Class Imbalance Ratio, 14.9%>}, Dataset, Ds5>\n",
      "\n",
      "<{<Dataset, Ds6>, <Source1, Amazon>, <Source2, Google Products>, <Number of Records D1, 1363>, <Number of Records D2, 3226>, <Number of Attributes, 3>, <Number of Labelled Instances in Training Set, 6874>, <Number of Labelled Instances in Testing Set, 2293>, <Number of Positive Instances in Training Set, 699>, <Number of Positive Instances in Testing Set, 234>, <Number of Negative Instances in Training Set, 6175>, <Number of Negative Instances in Testing Set, 2059>, <Class Imbalance Ratio, 10.2%>}, Dataset, Ds6>\n",
      "\n",
      "<{<Dataset, Ds7>, <Source1, Fodors>, <Source2, Zagat>, <Number of Records D1, 533>, <Number of Records D2, 331>, <Number of Attributes, 6>, <Number of Labelled Instances in Training Set, 567>, <Number of Labelled Instances in Testing Set, 189>, <Number of Positive Instances in Training Set, 66>, <Number of Positive Instances in Testing Set, 22>, <Number of Negative Instances in Training Set, 501>, <Number of Negative Instances in Testing Set, 167>, <Class Imbalance Ratio, 11.6%>}, Dataset, Ds7>\n",
      "\n",
      "<{<Dataset, Dd1>, <Source1, DBLP>, <Source2, ACM>, <Number of Records D1, 2616>, <Number of Records D2, 2294>, <Number of Attributes, 4>, <Number of Labelled Instances in Training Set, 7417>, <Number of Labelled Instances in Testing Set, 2473>, <Number of Positive Instances in Training Set, 1332>, <Number of Positive Instances in Testing Set, 444>, <Number of Negative Instances in Training Set, 6085>, <Number of Negative Instances in Testing Set, 2029>, <Class Imbalance Ratio, 18.0%>}, Dataset, Dd1>\n",
      "\n",
      "<{<Dataset, Dd2>, <Source1, DBLP>, <Source2, Google Scholar>, <Number of Records D1, 2616>, <Number of Records D2, 64263>, <Number of Attributes, 4>, <Number of Labelled Instances in Training Set, 17223>, <Number of Labelled Instances in Testing Set, 5742>, <Number of Positive Instances in Training Set, 3207>, <Number of Positive Instances in Testing Set, 1070>, <Number of Negative Instances in Training Set, 14016>, <Number of Negative Instances in Testing Set, 4672>, <Class Imbalance Ratio, 18.6%>}, Dataset, Dd2>\n",
      "\n",
      "<{<Dataset, Dd3>, <Source1, iTunes>, <Source2, Amazon>, <Number of Records D1, 6907>, <Number of Records D2, 55923>, <Number of Attributes, 8>, <Number of Labelled Instances in Training Set, 321>, <Number of Labelled Instances in Testing Set, 109>, <Number of Positive Instances in Training Set, 78>, <Number of Positive Instances in Testing Set, 27>, <Number of Negative Instances in Training Set, 243>, <Number of Negative Instances in Testing Set, 82>, <Class Imbalance Ratio, 24.3%>}, Dataset, Dd3>\n",
      "\n",
      "<{<Dataset, Dd4>, <Source1, Walmart>, <Source2, Amazon>, <Number of Records D1, 2554>, <Number of Records D2, 22074>, <Number of Attributes, 5>, <Number of Labelled Instances in Training Set, 6144>, <Number of Labelled Instances in Testing Set, 2049>, <Number of Positive Instances in Training Set, 576>, <Number of Positive Instances in Testing Set, 193>, <Number of Negative Instances in Training Set, 5568>, <Number of Negative Instances in Testing Set, 1856>, <Class Imbalance Ratio, 9.4%>}, Dataset, Dd4>\n",
      "\n",
      "<{<Dataset, Dt1>, <Source1, Abt>, <Source2, Buy>, <Number of Records D1, 1081>, <Number of Records D2, 1092>, <Number of Attributes, 3>, <Number of Labelled Instances in Training Set, 5743>, <Number of Labelled Instances in Testing Set, 1916>, <Number of Positive Instances in Training Set, 616>, <Number of Positive Instances in Testing Set, 206>, <Number of Negative Instances in Training Set, 5127>, <Number of Negative Instances in Testing Set, 1710>, <Class Imbalance Ratio, 10.7%>}, Dataset, Dt1>\n",
      "\n",
      "\t Saved answer at: experiments/output/cs_dataset/6/answers\\2307.01231_2.txt\n"
     ]
    }
   ],
   "source": [
    "tables = table.load_tables_from_json(tables_file_path)\n",
    "run(connection_infos, msgs_file_paths, tables, output_folder, 1)"
   ],
   "metadata": {
    "collapsed": false,
    "pycharm": {
     "name": "#%%\n"
    }
   }
  },
  {
   "cell_type": "code",
   "execution_count": 5,
   "outputs": [],
   "source": [
    "table.check_processed_tables(tables_file_path, output_folder + \"/answers\")"
   ],
   "metadata": {
    "collapsed": false,
    "pycharm": {
     "name": "#%%\n"
    }
   }
  }
 ],
 "metadata": {
  "kernelspec": {
   "display_name": "Python 3",
   "language": "python",
   "name": "python3"
  },
  "language_info": {
   "codemirror_mode": {
    "name": "ipython",
    "version": 2
   },
   "file_extension": ".py",
   "mimetype": "text/x-python",
   "name": "python",
   "nbconvert_exporter": "python",
   "pygments_lexer": "ipython2",
   "version": "2.7.6"
  }
 },
 "nbformat": 4,
 "nbformat_minor": 0
}