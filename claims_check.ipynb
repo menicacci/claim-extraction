{
 "cells": [
  {
   "cell_type": "code",
   "execution_count": 2,
   "metadata": {
    "pycharm": {
     "name": "#%%\n"
    }
   },
   "outputs": [],
   "source": [
    "import os\n",
    "from scripts import check_claim_structure as cs\n",
    "from scripts import table\n",
    "from scripts import utils\n",
    "from scripts import eval"
   ]
  },
  {
   "cell_type": "code",
   "execution_count": 6,
   "metadata": {
    "pycharm": {
     "name": "#%%\n"
    }
   },
   "outputs": [],
   "source": [
    "def process_datasets(tables_path, requests_path):\n",
    "    dataset_results = {}\n",
    "\n",
    "    # Iterate through all directories in dataset_path\n",
    "    for directory in os.listdir(requests_path):\n",
    "        if os.path.isdir(os.path.join(requests_path, directory)):\n",
    "            model_answers_path = os.path.join(requests_path, directory, 'answers')\n",
    "            extracted_claims_path = os.path.join(requests_path, directory, 'claims.json')\n",
    "\n",
    "            extracted_claims = cs.extract_answers(model_answers_path, extracted_claims_path)\n",
    "            extracted_tables = table.load_tables_from_json(tables_path)\n",
    "\n",
    "            results = eval.evaluate_extracted_articles(extracted_claims, extracted_tables)\n",
    "            results = list(results.items())\n",
    "            results.sort()\n",
    "\n",
    "            dataset_results[directory] = results\n",
    "\n",
    "    return dataset_results\n",
    "\n",
    "tables_file_path = 'experiments/extracted_tables/cs_tables.json'\n",
    "dataset_path = 'experiments/output/cs_main'\n",
    "\n",
    "d_results = process_datasets(tables_file_path, dataset_path)"
   ]
  },
  {
   "cell_type": "code",
   "execution_count": 7,
   "metadata": {
    "pycharm": {
     "name": "#%%\n"
    }
   },
   "outputs": [
    {
     "data": {
      "text/plain": "<Figure size 864x288 with 2 Axes>",
      "image/png": "[encoded data removed]"
     },
     "metadata": {
      "needs_background": "light"
     },
     "output_type": "display_data"
    }
   ],
   "source": [
    "utils.plot_dataset_results(d_results, 2)"
   ]
  },
  {
   "cell_type": "code",
   "execution_count": 3,
   "metadata": {
    "pycharm": {
     "name": "#%%\n"
    }
   },
   "outputs": [],
   "source": [
    "answers_path = 'experiments/output/cs_main/1/answers'\n",
    "output_path = 'experiments/output/cs_main/1/claims.json'\n",
    "tables_file_path = 'experiments/extracted_tables/cs_tables.json'\n",
    "\n",
    "claims = cs.extract_answers(answers_path, output_path)\n",
    "tables = table.load_tables_from_json(tables_file_path)"
   ]
  },
  {
   "cell_type": "code",
   "execution_count": 6,
   "metadata": {
    "pycharm": {
     "name": "#%%\n"
    }
   },
   "outputs": [
    {
     "data": {
      "text/plain": "0.8571428571428571"
     },
     "execution_count": 6,
     "metadata": {},
     "output_type": "execute_result"
    }
   ],
   "source": [
    "article_id = '2307.01231'\n",
    "table_idx = 5\n",
    "\n",
    "html_table = tables[article_id][table_idx]['table']\n",
    "table_values, table_pd = cs.get_table_values(html_table)\n",
    "\n",
    "claim_values = claims[article_id][table_idx]['extracted_claims']\n",
    "claim_specs, claim_results, all_values_extracted = cs.count_specifications(claim_values)\n",
    "\n",
    "unique_table_vales = utils.remove_duplicates(table_values)\n",
    "unique_values_extracted = utils.remove_duplicates(all_values_extracted)\n",
    "\n",
    "similarities, similarity_scores = eval.find_similar_strings(unique_table_vales, unique_values_extracted)\n",
    "\n",
    "# table_pd[0].head()\n",
    "# utils.print_claims(claims)\n",
    "\n",
    "eval.evaluate(similarities, table_values, all_values_extracted)"
   ]
  },
  {
   "cell_type": "code",
   "execution_count": 7,
   "outputs": [
    {
     "data": {
      "text/plain": "       Unnamed: 0_level_0 D1subscript𝐷1D_{1} D2subscript𝐷2D_{2}  \\\n       Unnamed: 0_level_1 D1subscript𝐷1D_{1} D2subscript𝐷2D_{2}   \n0  Dn​1subscript𝐷𝑛1D_{n1}                Abt                Buy   \n1  Dn​2subscript𝐷𝑛2D_{n2}             Amazon                 GP   \n2  Dn​3subscript𝐷𝑛3D_{n3}               DBLP                ACM   \n3  Dn​4subscript𝐷𝑛4D_{n4}               IMDB               TMDB   \n4  Dn​5subscript𝐷𝑛5D_{n5}               IMDB               TVDB   \n\n  |D1|subscript𝐷1|D_{1}| |D2|subscript𝐷2|D_{2}| |A|𝐴|A| Blocking performance  \\\n  |D1|subscript𝐷1|D_{1}| |D2|subscript𝐷2|D_{2}| |A|𝐴|A|              P​C𝑃𝐶PC   \n0                   1076                   1076       3                0.899   \n1                   1354                   3039       4                0.910   \n2                   2616                   2294       4                0.983   \n3                   5118                   6056       5                0.898   \n4                   5118                   7810       4                0.891   \n\n                           ... DeepBlocker config.                          \\\n  P​Q𝑃𝑄PQ |C|𝐶|C| |P|𝑃|P|  ...           c​l.𝑐𝑙cl. K𝐾K       i​n​d.𝑖𝑛𝑑ind.   \n0   0.029   33356     967  ...             ×\\times  31  D2subscript𝐷2D_{2}   \n1   0.074   13540    1005  ...             ×\\times  10  D1subscript𝐷1D_{1}   \n2   0.953    2294    2186  ...                   ✓   1  D2subscript𝐷2D_{2}   \n3   0.011  158658    1768  ...                   ✓  31  D1subscript𝐷1D_{1}   \n4   0.003  322434     955  ...             ×\\times  63  D1subscript𝐷1D_{1}   \n\n  |It​r|subscript𝐼𝑡𝑟|I_{tr}| |It​e|subscript𝐼𝑡𝑒|I_{te}|  \\\n  |It​r|subscript𝐼𝑡𝑟|I_{tr}| |It​e|subscript𝐼𝑡𝑒|I_{te}|   \n0                      20014                       6671   \n1                       8124                       2708   \n2                       1376                        459   \n3                      95195                      31732   \n4                     193460                      64487   \n\n  |Pt​r|subscript𝑃𝑡𝑟|P_{tr}| |Pt​e|subscript𝑃𝑡𝑒|P_{te}|  \\\n  |Pt​r|subscript𝑃𝑡𝑟|P_{tr}| |Pt​e|subscript𝑃𝑡𝑒|P_{te}|   \n0                        580                        193   \n1                        603                        201   \n2                       1312                        437   \n3                       1061                        354   \n4                        573                        191   \n\n  |Nt​r|subscript𝑁𝑡𝑟|N_{tr}| |Nt​e|subscript𝑁𝑡𝑒|N_{te}|     IR  \n  |Nt​r|subscript𝑁𝑡𝑟|N_{tr}| |Nt​e|subscript𝑁𝑡𝑒|N_{te}|     IR  \n0                      19433                       6478   2.9%  \n1                       7521                       2507   7.4%  \n2                         65                         22  95.3%  \n3                      94134                      31378   1.1%  \n4                     192887                      64296   0.3%  \n\n[5 rows x 21 columns]",
      "text/html": "<div>\n<style scoped>\n    .dataframe tbody tr th:only-of-type {\n        vertical-align: middle;\n    }\n\n    .dataframe tbody tr th {\n        vertical-align: top;\n    }\n\n    .dataframe thead tr th {\n        text-align: left;\n    }\n</style>\n<table border=\"1\" class=\"dataframe\">\n  <thead>\n    <tr>\n      <th></th>\n      <th>Unnamed: 0_level_0</th>\n      <th>D1subscript𝐷1D_{1}</th>\n      <th>D2subscript𝐷2D_{2}</th>\n      <th>|D1|subscript𝐷1|D_{1}|</th>\n      <th>|D2|subscript𝐷2|D_{2}|</th>\n      <th>|A|𝐴|A|</th>\n      <th colspan=\"4\" halign=\"left\">Blocking performance</th>\n      <th>...</th>\n      <th colspan=\"3\" halign=\"left\">DeepBlocker config.</th>\n      <th>|It​r|subscript𝐼𝑡𝑟|I_{tr}|</th>\n      <th>|It​e|subscript𝐼𝑡𝑒|I_{te}|</th>\n      <th>|Pt​r|subscript𝑃𝑡𝑟|P_{tr}|</th>\n      <th>|Pt​e|subscript𝑃𝑡𝑒|P_{te}|</th>\n      <th>|Nt​r|subscript𝑁𝑡𝑟|N_{tr}|</th>\n      <th>|Nt​e|subscript𝑁𝑡𝑒|N_{te}|</th>\n      <th>IR</th>\n    </tr>\n    <tr>\n      <th></th>\n      <th>Unnamed: 0_level_1</th>\n      <th>D1subscript𝐷1D_{1}</th>\n      <th>D2subscript𝐷2D_{2}</th>\n      <th>|D1|subscript𝐷1|D_{1}|</th>\n      <th>|D2|subscript𝐷2|D_{2}|</th>\n      <th>|A|𝐴|A|</th>\n      <th>P​C𝑃𝐶PC</th>\n      <th>P​Q𝑃𝑄PQ</th>\n      <th>|C|𝐶|C|</th>\n      <th>|P|𝑃|P|</th>\n      <th>...</th>\n      <th>c​l.𝑐𝑙cl.</th>\n      <th>K𝐾K</th>\n      <th>i​n​d.𝑖𝑛𝑑ind.</th>\n      <th>|It​r|subscript𝐼𝑡𝑟|I_{tr}|</th>\n      <th>|It​e|subscript𝐼𝑡𝑒|I_{te}|</th>\n      <th>|Pt​r|subscript𝑃𝑡𝑟|P_{tr}|</th>\n      <th>|Pt​e|subscript𝑃𝑡𝑒|P_{te}|</th>\n      <th>|Nt​r|subscript𝑁𝑡𝑟|N_{tr}|</th>\n      <th>|Nt​e|subscript𝑁𝑡𝑒|N_{te}|</th>\n      <th>IR</th>\n    </tr>\n  </thead>\n  <tbody>\n    <tr>\n      <th>0</th>\n      <td>Dn​1subscript𝐷𝑛1D_{n1}</td>\n      <td>Abt</td>\n      <td>Buy</td>\n      <td>1076</td>\n      <td>1076</td>\n      <td>3</td>\n      <td>0.899</td>\n      <td>0.029</td>\n      <td>33356</td>\n      <td>967</td>\n      <td>...</td>\n      <td>×\\times</td>\n      <td>31</td>\n      <td>D2subscript𝐷2D_{2}</td>\n      <td>20014</td>\n      <td>6671</td>\n      <td>580</td>\n      <td>193</td>\n      <td>19433</td>\n      <td>6478</td>\n      <td>2.9%</td>\n    </tr>\n    <tr>\n      <th>1</th>\n      <td>Dn​2subscript𝐷𝑛2D_{n2}</td>\n      <td>Amazon</td>\n      <td>GP</td>\n      <td>1354</td>\n      <td>3039</td>\n      <td>4</td>\n      <td>0.910</td>\n      <td>0.074</td>\n      <td>13540</td>\n      <td>1005</td>\n      <td>...</td>\n      <td>×\\times</td>\n      <td>10</td>\n      <td>D1subscript𝐷1D_{1}</td>\n      <td>8124</td>\n      <td>2708</td>\n      <td>603</td>\n      <td>201</td>\n      <td>7521</td>\n      <td>2507</td>\n      <td>7.4%</td>\n    </tr>\n    <tr>\n      <th>2</th>\n      <td>Dn​3subscript𝐷𝑛3D_{n3}</td>\n      <td>DBLP</td>\n      <td>ACM</td>\n      <td>2616</td>\n      <td>2294</td>\n      <td>4</td>\n      <td>0.983</td>\n      <td>0.953</td>\n      <td>2294</td>\n      <td>2186</td>\n      <td>...</td>\n      <td>✓</td>\n      <td>1</td>\n      <td>D2subscript𝐷2D_{2}</td>\n      <td>1376</td>\n      <td>459</td>\n      <td>1312</td>\n      <td>437</td>\n      <td>65</td>\n      <td>22</td>\n      <td>95.3%</td>\n    </tr>\n    <tr>\n      <th>3</th>\n      <td>Dn​4subscript𝐷𝑛4D_{n4}</td>\n      <td>IMDB</td>\n      <td>TMDB</td>\n      <td>5118</td>\n      <td>6056</td>\n      <td>5</td>\n      <td>0.898</td>\n      <td>0.011</td>\n      <td>158658</td>\n      <td>1768</td>\n      <td>...</td>\n      <td>✓</td>\n      <td>31</td>\n      <td>D1subscript𝐷1D_{1}</td>\n      <td>95195</td>\n      <td>31732</td>\n      <td>1061</td>\n      <td>354</td>\n      <td>94134</td>\n      <td>31378</td>\n      <td>1.1%</td>\n    </tr>\n    <tr>\n      <th>4</th>\n      <td>Dn​5subscript𝐷𝑛5D_{n5}</td>\n      <td>IMDB</td>\n      <td>TVDB</td>\n      <td>5118</td>\n      <td>7810</td>\n      <td>4</td>\n      <td>0.891</td>\n      <td>0.003</td>\n      <td>322434</td>\n      <td>955</td>\n      <td>...</td>\n      <td>×\\times</td>\n      <td>63</td>\n      <td>D1subscript𝐷1D_{1}</td>\n      <td>193460</td>\n      <td>64487</td>\n      <td>573</td>\n      <td>191</td>\n      <td>192887</td>\n      <td>64296</td>\n      <td>0.3%</td>\n    </tr>\n  </tbody>\n</table>\n<p>5 rows × 21 columns</p>\n</div>"
     },
     "execution_count": 7,
     "metadata": {},
     "output_type": "execute_result"
    }
   ],
   "source": [
    "table_pd[0].head()"
   ],
   "metadata": {
    "collapsed": false,
    "pycharm": {
     "name": "#%%\n"
    }
   }
  },
  {
   "cell_type": "code",
   "execution_count": 6,
   "outputs": [
    {
     "data": {
      "text/plain": "{'89.11': ['89.11'],\n '98.55': ['98.55'],\n '63.33*': ['63.33*'],\n '59.26': ['59.26'],\n '94.80**+': ['94.80**+'],\n '95.67': ['95.67'],\n '98.09*': ['98.09*'],\n '62.96': ['62.96'],\n 'KAER ( Roberta + CST + PCT)': ['KAER ( Roberta + CST + PCT)'],\n '61.76': ['61.76'],\n 'Textual': ['Textual'],\n '95.14': ['95.14'],\n '97.04**+': ['97.04**+'],\n '76.25': ['76.25'],\n '96.26**++': ['96.26**++'],\n '67.69': ['67.69'],\n '89.66': ['89.66'],\n '57.14': ['57.14'],\n '98.99': ['98.99'],\n '47.06*': ['47.06*'],\n 'RoBERTa': ['RoBERTa'],\n 'iTunes-Amazon': ['iTunes-Amazon'],\n '67.20**++': ['67.20**++'],\n '95.72': ['95.72'],\n 'DBLP-ACM': ['DBLP-ACM'],\n '88.19': ['88.19'],\n '95.29': ['95.29'],\n '61.29': ['61.29'],\n 'Ditto': ['Ditto'],\n '74.85': ['74.85'],\n '95.20': ['95.20'],\n '61.54': ['61.54'],\n 'Amazon-Google': ['Amazon-Google'],\n '68.70': ['68.70'],\n '95.47': ['95.47'],\n '89.66**++': ['89.66**++'],\n '94.93+': ['94.93+'],\n '95.63': ['95.63'],\n '60.38': ['60.38'],\n 'Abt-Buy': ['Abt-Buy'],\n '88.41': ['88.41'],\n 'KAER ( Roberta + CST + EL + / )': ['KAER ( Roberta + CST + EL + / )'],\n '95.54': ['95.54'],\n '95.32': ['95.32'],\n '73.80**++': ['73.80**++'],\n '95.75': ['95.75'],\n '98.43': ['98.43'],\n 'KAER ( Roberta + EL + PCT)': ['KAER ( Roberta + EL + PCT)'],\n '95.74': ['95.74'],\n 'KAER ( Roberta + CST + / )': ['KAER ( Roberta + CST + / )'],\n '73.77': ['73.77'],\n 'Dirty': ['Dirty'],\n '54.90*': ['54.90*'],\n '96.11*': ['96.11*'],\n '92.61**++': ['92.61**++'],\n '95.62': ['95.62'],\n '71.37*': ['71.37*'],\n '78.24**++': ['78.24**++'],\n 'KAER ( Roberta + EL + / )': ['KAER ( Roberta + EL + / )'],\n '47.06': ['47.06'],\n '50.00*': ['50.00*'],\n '95.12': ['95.12'],\n '74.44': ['74.44'],\n '95.81': ['95.81'],\n '98.54': ['98.54'],\n '80.70**++': ['80.70**++'],\n '74.02': ['74.02'],\n '72.73': ['72.73'],\n '57.14+': ['57.14+'],\n '81.82': ['81.82'],\n 'DBLP-GoogleScholar': ['DBLP-GoogleScholar'],\n '92.27**++': ['92.27**++'],\n '95.65': ['95.65'],\n 'KAER ( Roberta + CST + EL + PCT)': ['KAER ( Roberta + CST + EL + PCT)'],\n '98.34': ['98.34'],\n 'Structured': ['Structured'],\n '86.21**++': ['86.21**++'],\n '95.05': ['95.05'],\n 'KAER ( Roberta + CST + EL )': ['KAER ( Roberta + CST + EL )'],\n '77.78+': ['77.78+'],\n 'Models': ['Models'],\n '75.63': ['75.63'],\n 'KAER ( Roberta + EL )': ['KAER ( Roberta + EL )'],\n '75.15': ['75.15'],\n '71.11+': ['71.11+'],\n '73.12': ['73.12'],\n '95.87': ['95.87'],\n '89.81': ['89.81'],\n '94.24**++': ['94.24**++'],\n 'KAER ( Roberta + CST )': ['KAER ( Roberta + CST )'],\n '88.89': ['88.89'],\n '72.28': ['72.28'],\n '72.00': ['72.00'],\n '95.85': ['95.85'],\n '98.77': ['98.77']}"
     },
     "execution_count": 6,
     "metadata": {},
     "output_type": "execute_result"
    }
   ],
   "source": [
    "similarities"
   ],
   "metadata": {
    "collapsed": false,
    "pycharm": {
     "name": "#%%\n"
    }
   }
  }
 ],
 "metadata": {
  "kernelspec": {
   "display_name": "Python 3 (ipykernel)",
   "language": "python",
   "name": "python3"
  },
  "language_info": {
   "codemirror_mode": {
    "name": "ipython",
    "version": 3
   },
   "file_extension": ".py",
   "mimetype": "text/x-python",
   "name": "python",
   "nbconvert_exporter": "python",
   "pygments_lexer": "ipython3",
   "version": "3.9.7"
  }
 },
 "nbformat": 4,
 "nbformat_minor": 1
}