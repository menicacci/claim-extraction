{
 "cells": [
  {
   "cell_type": "code",
   "execution_count": 1,
   "metadata": {
    "pycharm": {
     "name": "#%%\n"
    }
   },
   "outputs": [],
   "source": [
    "import os\n",
    "from scripts import check_claim_structure as cs\n",
    "from scripts import table\n",
    "from scripts import utils\n",
    "from scripts import eval"
   ]
  },
  {
   "cell_type": "code",
   "execution_count": 2,
   "metadata": {
    "pycharm": {
     "name": "#%%\n"
    }
   },
   "outputs": [],
   "source": [
    "def process_datasets(tables_path, requests_path):\n",
    "    dataset_results = {}\n",
    "\n",
    "    # Iterate through all directories in dataset_path\n",
    "    for directory in os.listdir(requests_path):\n",
    "        if os.path.isdir(os.path.join(requests_path, directory)):\n",
    "            model_answers_path = os.path.join(requests_path, directory, 'answers')\n",
    "            extracted_claims_path = os.path.join(requests_path, directory, 'claims.json')\n",
    "\n",
    "            extracted_claims = cs.extract_answers(model_answers_path, extracted_claims_path)\n",
    "            extracted_tables = table.load_tables_from_json(tables_path)\n",
    "\n",
    "            results = eval.evaluate_extracted_articles(extracted_claims, extracted_tables)\n",
    "            results = list(results.items())\n",
    "            results.sort()\n",
    "\n",
    "            dataset_results[directory] = results\n",
    "\n",
    "    return dataset_results\n",
    "\n",
    "tables_file_path = 'experiments/extracted_tables/cs_tables.json'\n",
    "dataset_path = 'experiments/output/cs_main'\n",
    "\n",
    "d_results = process_datasets(tables_file_path, dataset_path)"
   ]
  },
  {
   "cell_type": "code",
   "execution_count": 3,
   "metadata": {
    "pycharm": {
     "name": "#%%\n"
    }
   },
   "outputs": [
    {
     "data": {
      "text/plain": "<Figure size 864x288 with 2 Axes>",
      "image/png": "[encoded data removed]"
     },
     "metadata": {
      "needs_background": "light"
     },
     "output_type": "display_data"
    }
   ],
   "source": [
    "utils.plot_dataset_results(d_results, 2)"
   ]
  },
  {
   "cell_type": "code",
   "execution_count": 4,
   "metadata": {
    "pycharm": {
     "name": "#%%\n"
    }
   },
   "outputs": [],
   "source": [
    "answers_path = 'experiments/output/cs_main/1/answers'\n",
    "output_path = 'experiments/output/cs_main/1/claims.json'\n",
    "tables_file_path = 'experiments/extracted_tables/cs_tables.json'\n",
    "\n",
    "claims = cs.extract_answers(answers_path, output_path)\n",
    "tables = table.load_tables_from_json(tables_file_path)"
   ]
  },
  {
   "cell_type": "code",
   "execution_count": 5,
   "metadata": {
    "pycharm": {
     "name": "#%%\n"
    }
   },
   "outputs": [
    {
     "data": {
      "text/plain": "1.0"
     },
     "execution_count": 5,
     "metadata": {},
     "output_type": "execute_result"
    }
   ],
   "source": [
    "article_id = '2304.12329'\n",
    "table_idx = 3\n",
    "\n",
    "html_table = tables[article_id][table_idx]['table']\n",
    "table_values, table_pd = cs.get_table_values(html_table)\n",
    "\n",
    "claim_values = claims[article_id][table_idx]['extracted_claims']\n",
    "claim_specs, claim_results, all_values_extracted = cs.count_specifications(claim_values)\n",
    "\n",
    "unique_table_vales = utils.remove_duplicates(table_values)\n",
    "unique_values_extracted = utils.remove_duplicates(all_values_extracted)\n",
    "\n",
    "similarities, similarity_scores = eval.find_similar_strings(unique_table_vales, unique_values_extracted)\n",
    "\n",
    "# table_pd[0].head()\n",
    "# utils.print_claims(claims)\n",
    "\n",
    "eval.evaluate(similarities, table_values, all_values_extracted)"
   ]
  },
  {
   "cell_type": "code",
   "execution_count": 6,
   "outputs": [
    {
     "data": {
      "text/plain": "  Unnamed: 0_level_0   WC    FT   GE    BT    AT    RA   DT    XT    ST    S5  \\\n                Init 32.4 159.7 5.87  4.72  3.99  5.28  4.3  4.73  9.19  9.84   \n0                 D1  0.0   0.2  1.9   2.6   2.4   2.3  1.3   4.0   1.1   1.1   \n1                 D2  0.1   1.6  0.2   3.1   2.4   2.3  2.2   3.3   3.4   3.4   \n2                 D3  0.9   9.6  0.4  10.1   6.7   6.3  8.6   8.3  10.3  12.4   \n3                 D4  0.2   2.5  0.3   5.9   5.2   5.3  4.2   7.8   5.1   5.4   \n4                 D5  0.4   3.8  0.4  13.6  13.0  12.9  8.7  20.3  10.7  12.1   \n\n    SA   SM  \n  9.33 8.36  \n0  0.7  0.5  \n1  1.8  0.9  \n2  5.8  2.3  \n3  2.8  1.4  \n4  6.0  3.2  ",
      "text/html": "<div>\n<style scoped>\n    .dataframe tbody tr th:only-of-type {\n        vertical-align: middle;\n    }\n\n    .dataframe tbody tr th {\n        vertical-align: top;\n    }\n\n    .dataframe thead tr th {\n        text-align: left;\n    }\n</style>\n<table border=\"1\" class=\"dataframe\">\n  <thead>\n    <tr>\n      <th></th>\n      <th>Unnamed: 0_level_0</th>\n      <th>WC</th>\n      <th>FT</th>\n      <th>GE</th>\n      <th>BT</th>\n      <th>AT</th>\n      <th>RA</th>\n      <th>DT</th>\n      <th>XT</th>\n      <th>ST</th>\n      <th>S5</th>\n      <th>SA</th>\n      <th>SM</th>\n    </tr>\n    <tr>\n      <th></th>\n      <th>Init</th>\n      <th>32.4</th>\n      <th>159.7</th>\n      <th>5.87</th>\n      <th>4.72</th>\n      <th>3.99</th>\n      <th>5.28</th>\n      <th>4.3</th>\n      <th>4.73</th>\n      <th>9.19</th>\n      <th>9.84</th>\n      <th>9.33</th>\n      <th>8.36</th>\n    </tr>\n  </thead>\n  <tbody>\n    <tr>\n      <th>0</th>\n      <td>D1</td>\n      <td>0.0</td>\n      <td>0.2</td>\n      <td>1.9</td>\n      <td>2.6</td>\n      <td>2.4</td>\n      <td>2.3</td>\n      <td>1.3</td>\n      <td>4.0</td>\n      <td>1.1</td>\n      <td>1.1</td>\n      <td>0.7</td>\n      <td>0.5</td>\n    </tr>\n    <tr>\n      <th>1</th>\n      <td>D2</td>\n      <td>0.1</td>\n      <td>1.6</td>\n      <td>0.2</td>\n      <td>3.1</td>\n      <td>2.4</td>\n      <td>2.3</td>\n      <td>2.2</td>\n      <td>3.3</td>\n      <td>3.4</td>\n      <td>3.4</td>\n      <td>1.8</td>\n      <td>0.9</td>\n    </tr>\n    <tr>\n      <th>2</th>\n      <td>D3</td>\n      <td>0.9</td>\n      <td>9.6</td>\n      <td>0.4</td>\n      <td>10.1</td>\n      <td>6.7</td>\n      <td>6.3</td>\n      <td>8.6</td>\n      <td>8.3</td>\n      <td>10.3</td>\n      <td>12.4</td>\n      <td>5.8</td>\n      <td>2.3</td>\n    </tr>\n    <tr>\n      <th>3</th>\n      <td>D4</td>\n      <td>0.2</td>\n      <td>2.5</td>\n      <td>0.3</td>\n      <td>5.9</td>\n      <td>5.2</td>\n      <td>5.3</td>\n      <td>4.2</td>\n      <td>7.8</td>\n      <td>5.1</td>\n      <td>5.4</td>\n      <td>2.8</td>\n      <td>1.4</td>\n    </tr>\n    <tr>\n      <th>4</th>\n      <td>D5</td>\n      <td>0.4</td>\n      <td>3.8</td>\n      <td>0.4</td>\n      <td>13.6</td>\n      <td>13.0</td>\n      <td>12.9</td>\n      <td>8.7</td>\n      <td>20.3</td>\n      <td>10.7</td>\n      <td>12.1</td>\n      <td>6.0</td>\n      <td>3.2</td>\n    </tr>\n  </tbody>\n</table>\n</div>"
     },
     "execution_count": 6,
     "metadata": {},
     "output_type": "execute_result"
    }
   ],
   "source": [
    "table_pd[0].head()"
   ],
   "metadata": {
    "collapsed": false,
    "pycharm": {
     "name": "#%%\n"
    }
   }
  },
  {
   "cell_type": "code",
   "execution_count": 7,
   "outputs": [
    {
     "data": {
      "text/plain": "{'9.7': ['9.7'],\n '3.3': ['3.3'],\n '3.4': ['3.4'],\n '3.2': ['3.2'],\n 'D6': ['D6'],\n '19.5': ['19.5'],\n '2.4': ['2.4'],\n '13.0': ['13.0'],\n '13.8': ['13.8'],\n '8.7': ['8.7'],\n 'D4': ['D4'],\n 'D5': ['D5'],\n '24.2': ['24.2'],\n '2.6': ['2.6'],\n 'D3': ['D3'],\n '66.0': ['66.0'],\n '12.4': ['12.4'],\n '30.2': ['30.2'],\n '4.2': ['4.2'],\n '0.2': ['0.2'],\n '27.3': ['27.3'],\n '1.1': ['1.1'],\n '1.2': ['1.2'],\n '9.6': ['9.6'],\n '10.1': ['10.1'],\n '14.3': ['14.3'],\n '4.0': ['4.0'],\n 'D2': ['D2'],\n '99.9': ['99.9'],\n '13.6': ['13.6'],\n '65.5': ['65.5'],\n '1.9': ['1.9'],\n '3.6': ['3.6'],\n '11.9': ['11.9'],\n '10.3': ['10.3'],\n '3.8': ['3.8'],\n '10.0': ['10.0'],\n '61.5': ['61.5'],\n '5.4': ['5.4'],\n '2.2': ['2.2'],\n '7.8': ['7.8'],\n '38.9': ['38.9'],\n '28.9': ['28.9'],\n '1.0': ['1.0'],\n '14.9': ['14.9'],\n '73.4': ['73.4'],\n '10.7': ['10.7'],\n 'D10': ['D10'],\n 'D1': ['D1'],\n '0.9': ['0.9'],\n '8.0': ['8.0'],\n '16.5': ['16.5'],\n '6.3': ['6.3'],\n '2.8': ['2.8'],\n '8.6': ['8.6'],\n '20.3': ['20.3'],\n 'D7': ['D7'],\n '31.6': ['31.6'],\n '3.1': ['3.1'],\n '5.3': ['5.3'],\n '12.1': ['12.1'],\n '0.0': ['0.0'],\n '0.3': ['0.3'],\n '17.7': ['17.7'],\n '10.4': ['10.4'],\n '5.1': ['5.1'],\n '8.2': ['8.2'],\n '0.5': ['0.5'],\n '11.4': ['11.4'],\n '12.9': ['12.9'],\n '28.5': ['28.5'],\n '10.6': ['10.6'],\n '51.1': ['51.1'],\n '5.2': ['5.2'],\n '17.2': ['17.2'],\n '0.6': ['0.6'],\n '27.7': ['27.7'],\n '1.3': ['1.3'],\n '5.8': ['5.8'],\n '78.9': ['78.9'],\n '5.5': ['5.5'],\n '0.4': ['0.4'],\n '2.3': ['2.3'],\n '1.6': ['1.6'],\n '25.0': ['25.0'],\n '5.9': ['5.9'],\n '6.0': ['6.0'],\n '28.8': ['28.8'],\n '31.4': ['31.4'],\n '2.5': ['2.5'],\n '21.3': ['21.3'],\n '8.3': ['8.3'],\n '3.9': ['3.9'],\n '49.9': ['49.9'],\n '58.0': ['58.0'],\n '49.1': ['49.1'],\n '16.0': ['16.0'],\n '1.8': ['1.8'],\n '0.7': ['0.7'],\n 'D9': ['D9'],\n '1.4': ['1.4'],\n '0.1': ['0.1'],\n '11.2': ['11.2'],\n '15.4': ['15.4'],\n '47.9': ['47.9'],\n '6.7': ['6.7'],\n '0.8': ['0.8'],\n 'D8': ['D8']}"
     },
     "execution_count": 7,
     "metadata": {},
     "output_type": "execute_result"
    }
   ],
   "source": [
    "similarities"
   ],
   "metadata": {
    "collapsed": false,
    "pycharm": {
     "name": "#%%\n"
    }
   }
  }
 ],
 "metadata": {
  "kernelspec": {
   "display_name": "Python 3 (ipykernel)",
   "language": "python",
   "name": "python3"
  },
  "language_info": {
   "codemirror_mode": {
    "name": "ipython",
    "version": 3
   },
   "file_extension": ".py",
   "mimetype": "text/x-python",
   "name": "python",
   "nbconvert_exporter": "python",
   "pygments_lexer": "ipython3",
   "version": "3.9.7"
  }
 },
 "nbformat": 4,
 "nbformat_minor": 1
}