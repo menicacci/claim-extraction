{
 "cells": [
  {
   "cell_type": "code",
   "execution_count": 1,
   "outputs": [],
   "source": [
    "import check_claim_structure as cs"
   ],
   "metadata": {
    "collapsed": false,
    "pycharm": {
     "name": "#%%\n"
    }
   }
  },
  {
   "cell_type": "code",
   "execution_count": 102,
   "metadata": {
    "collapsed": true,
    "pycharm": {
     "name": "#%%\n"
    }
   },
   "outputs": [],
   "source": [
    "table_1 = '''\n",
    "<figure><table><thead><tr><th><span>Dataset</span></th><th><span># Records</span></th><th><span># Entities</span></th><th><span># Record-Pairs</span></th><th><span>Crowd Error Rate</span></th></tr><tr><th></th><th></th><th></th><th><span>Crowdsourced</span></th><th></th></tr></thead><tbody><tr><td><span>All Sports</span></td><td><span>267</span></td><td><span>86</span></td><td><span>35 511</span></td><td><span>5.67% (10 ques. / pair)</span></td></tr><tr><td><span>Gymnastics</span></td><td><span>94</span></td><td><span>12</span></td><td><span>4 371</span></td><td><span>10.65 % (5 ques. / pair)</span></td></tr><tr><td><span>Landmarks</span></td><td><span>529</span></td><td><span>15</span></td><td><span>30 070</span></td><td><span>4.82 % (5 ques. / pair)</span></td></tr><tr><td><span>Cora</span></td><td><span>949</span></td><td><span>165</span></td><td><span>29 281</span></td><td><span>27.77 % (5 ques. / pair)</span></td></tr></tbody></table><figcaption><span>Table 2: </span><span>Properties of datasets</span></figcaption></figure>\n",
    "'''\n",
    "\n",
    "table_2 = '''\n",
    "<figure><div><span><table><tbody><tr><td><span>Data Type</span></td><td><span>Dataset</span></td><td><span>Domain</span></td><td><span>Size</span></td><td><span># Positive</span></td><td><span># Attr.</span></td></tr><tr><td>Structured</td><td>Amazon-Google</td><td>software</td><td>11,460</td><td>1,167</td><td>3</td></tr><tr><td></td><td>iTunes-Amazon</td><td>music</td><td>539</td><td>132</td><td>8</td></tr><tr><td></td><td>DBLP-ACM</td><td>citation</td><td>12,363</td><td>2,220</td><td>4</td></tr><tr><td></td><td>DBLP-GoogleScholar</td><td>citation</td><td>28,707</td><td>5,347</td><td>4</td></tr><tr><td rowspan=\"3\"><span>Dirty</span></td><td>iTunes-Amazon</td><td>music</td><td>539</td><td>132</td><td>8</td></tr><tr><td>DBLP-ACM</td><td>citation</td><td>12,363</td><td>2,220</td><td>4</td></tr><tr><td>DBLP-GoogleScholar</td><td>citation</td><td>28,707</td><td>5,347</td><td>4</td></tr><tr><td>Textual</td><td>Abt-Buy</td><td>product</td><td>9,575</td><td>1,028</td><td>3</td></tr></tbody></table></span></div><figcaption><span>Table 2: </span>Dataset Summary</figcaption></figure>\n",
    "'''"
   ]
  },
  {
   "cell_type": "code",
   "execution_count": 104,
   "outputs": [],
   "source": [
    "import pandas as pd\n",
    "\n",
    "\n",
    "table_pd_1 = pd.read_html(table_1)\n",
    "table_pd_2 = pd.read_html(table_2)"
   ],
   "metadata": {
    "collapsed": false,
    "pycharm": {
     "name": "#%%\n"
    }
   }
  },
  {
   "cell_type": "code",
   "execution_count": 105,
   "outputs": [
    {
     "data": {
      "text/plain": "             Dataset          # Records         # Entities # Record-Pairs  \\\n  Unnamed: 0_level_1 Unnamed: 1_level_1 Unnamed: 2_level_1   Crowdsourced   \n0         All Sports                267                 86         35 511   \n1         Gymnastics                 94                 12          4 371   \n2          Landmarks                529                 15         30 070   \n3               Cora                949                165         29 281   \n\n           Crowd Error Rate  \n         Unnamed: 4_level_1  \n0   5.67% (10 ques. / pair)  \n1  10.65 % (5 ques. / pair)  \n2   4.82 % (5 ques. / pair)  \n3  27.77 % (5 ques. / pair)  ",
      "text/html": "<div>\n<style scoped>\n    .dataframe tbody tr th:only-of-type {\n        vertical-align: middle;\n    }\n\n    .dataframe tbody tr th {\n        vertical-align: top;\n    }\n\n    .dataframe thead tr th {\n        text-align: left;\n    }\n</style>\n<table border=\"1\" class=\"dataframe\">\n  <thead>\n    <tr>\n      <th></th>\n      <th>Dataset</th>\n      <th># Records</th>\n      <th># Entities</th>\n      <th># Record-Pairs</th>\n      <th>Crowd Error Rate</th>\n    </tr>\n    <tr>\n      <th></th>\n      <th>Unnamed: 0_level_1</th>\n      <th>Unnamed: 1_level_1</th>\n      <th>Unnamed: 2_level_1</th>\n      <th>Crowdsourced</th>\n      <th>Unnamed: 4_level_1</th>\n    </tr>\n  </thead>\n  <tbody>\n    <tr>\n      <th>0</th>\n      <td>All Sports</td>\n      <td>267</td>\n      <td>86</td>\n      <td>35 511</td>\n      <td>5.67% (10 ques. / pair)</td>\n    </tr>\n    <tr>\n      <th>1</th>\n      <td>Gymnastics</td>\n      <td>94</td>\n      <td>12</td>\n      <td>4 371</td>\n      <td>10.65 % (5 ques. / pair)</td>\n    </tr>\n    <tr>\n      <th>2</th>\n      <td>Landmarks</td>\n      <td>529</td>\n      <td>15</td>\n      <td>30 070</td>\n      <td>4.82 % (5 ques. / pair)</td>\n    </tr>\n    <tr>\n      <th>3</th>\n      <td>Cora</td>\n      <td>949</td>\n      <td>165</td>\n      <td>29 281</td>\n      <td>27.77 % (5 ques. / pair)</td>\n    </tr>\n  </tbody>\n</table>\n</div>"
     },
     "execution_count": 105,
     "metadata": {},
     "output_type": "execute_result"
    }
   ],
   "source": [
    "table_pd_1[0].head()"
   ],
   "metadata": {
    "collapsed": false,
    "pycharm": {
     "name": "#%%\n"
    }
   }
  },
  {
   "cell_type": "code",
   "execution_count": 106,
   "outputs": [
    {
     "data": {
      "text/plain": "            0                   1         2      3           4        5\n0   Data Type             Dataset    Domain   Size  # Positive  # Attr.\n1  Structured       Amazon-Google  software  11460        1167        3\n2         NaN       iTunes-Amazon     music    539         132        8\n3         NaN            DBLP-ACM  citation  12363        2220        4\n4         NaN  DBLP-GoogleScholar  citation  28707        5347        4",
      "text/html": "<div>\n<style scoped>\n    .dataframe tbody tr th:only-of-type {\n        vertical-align: middle;\n    }\n\n    .dataframe tbody tr th {\n        vertical-align: top;\n    }\n\n    .dataframe thead th {\n        text-align: right;\n    }\n</style>\n<table border=\"1\" class=\"dataframe\">\n  <thead>\n    <tr style=\"text-align: right;\">\n      <th></th>\n      <th>0</th>\n      <th>1</th>\n      <th>2</th>\n      <th>3</th>\n      <th>4</th>\n      <th>5</th>\n    </tr>\n  </thead>\n  <tbody>\n    <tr>\n      <th>0</th>\n      <td>Data Type</td>\n      <td>Dataset</td>\n      <td>Domain</td>\n      <td>Size</td>\n      <td># Positive</td>\n      <td># Attr.</td>\n    </tr>\n    <tr>\n      <th>1</th>\n      <td>Structured</td>\n      <td>Amazon-Google</td>\n      <td>software</td>\n      <td>11460</td>\n      <td>1167</td>\n      <td>3</td>\n    </tr>\n    <tr>\n      <th>2</th>\n      <td>NaN</td>\n      <td>iTunes-Amazon</td>\n      <td>music</td>\n      <td>539</td>\n      <td>132</td>\n      <td>8</td>\n    </tr>\n    <tr>\n      <th>3</th>\n      <td>NaN</td>\n      <td>DBLP-ACM</td>\n      <td>citation</td>\n      <td>12363</td>\n      <td>2220</td>\n      <td>4</td>\n    </tr>\n    <tr>\n      <th>4</th>\n      <td>NaN</td>\n      <td>DBLP-GoogleScholar</td>\n      <td>citation</td>\n      <td>28707</td>\n      <td>5347</td>\n      <td>4</td>\n    </tr>\n  </tbody>\n</table>\n</div>"
     },
     "execution_count": 106,
     "metadata": {},
     "output_type": "execute_result"
    }
   ],
   "source": [
    "table_pd_2[0].head()"
   ],
   "metadata": {
    "collapsed": false,
    "pycharm": {
     "name": "#%%\n"
    }
   }
  },
  {
   "cell_type": "code",
   "execution_count": 107,
   "outputs": [
    {
     "name": "stdout",
     "output_type": "stream",
     "text": [
      "['Dataset', '# Records', '# Entities', '# Record-Pairs Crowdsourced', 'Crowd Error Rate']\n",
      "[]\n"
     ]
    }
   ],
   "source": [
    "def combine_column_names(columns):\n",
    "    if columns is None or type(columns[0]) is int:\n",
    "        return []\n",
    "\n",
    "    combined_names = []\n",
    "    for col in columns:\n",
    "        if type(col) is tuple:\n",
    "            name_parts = [part for part in col if 'Unnamed' not in part]\n",
    "            combined_names.append(' '.join(name_parts))\n",
    "        else:\n",
    "            combined_names.append(col)\n",
    "    return combined_names\n",
    "\n",
    "\n",
    "\n",
    "columns_names_1 = table_pd_1[0].columns.tolist()\n",
    "columns_names_2 = table_pd_2[0].columns.tolist()\n",
    "\n",
    "columns_names_1 = combine_column_names(columns_names_1)\n",
    "columns_names_2 = combine_column_names(columns_names_2)\n",
    "\n",
    "print(columns_names_1)\n",
    "print(columns_names_2)"
   ],
   "metadata": {
    "collapsed": false,
    "pycharm": {
     "name": "#%%\n"
    }
   }
  },
  {
   "cell_type": "code",
   "execution_count": 109,
   "outputs": [],
   "source": [
    "def get_non_null_values(df):\n",
    "    non_null_values = []\n",
    "    for column in df.columns:\n",
    "        non_null_values.extend(df[column].dropna().tolist())\n",
    "    return non_null_values\n",
    "\n",
    "def remove_duplicates(input_list):\n",
    "    return list(set(input_list))\n",
    "\n",
    "\n",
    "values = remove_duplicates(columns_names_2 + get_non_null_values(table_pd_2[0]))"
   ],
   "metadata": {
    "collapsed": false,
    "pycharm": {
     "name": "#%%\n"
    }
   }
  },
  {
   "cell_type": "code",
   "execution_count": 110,
   "outputs": [
    {
     "data": {
      "text/plain": "['1167',\n 'music',\n '28707',\n '9575',\n '5347',\n '# Positive',\n 'Domain',\n 'iTunes-Amazon',\n '# Attr.',\n '1028',\n 'DBLP-ACM',\n 'Amazon-Google',\n 'Abt-Buy',\n 'software',\n '4',\n 'citation',\n 'Dataset',\n '539',\n '12363',\n 'Textual',\n 'Data Type',\n 'product',\n '8',\n 'Structured',\n '2220',\n 'Size',\n '3',\n '132',\n 'DBLP-GoogleScholar',\n 'Dirty',\n '11460']"
     },
     "execution_count": 110,
     "metadata": {},
     "output_type": "execute_result"
    }
   ],
   "source": [
    "values"
   ],
   "metadata": {
    "collapsed": false,
    "pycharm": {
     "name": "#%%\n"
    }
   }
  },
  {
   "cell_type": "code",
   "execution_count": 2,
   "outputs": [],
   "source": [
    "examples = [\n",
    "    '<{<Method, HM(40)>, <Dataset, D_{n4}>}, F1, 91.39>',\n",
    "    '<{<Method, HM(40)>,<Dataset, D_{n4}>}, F1, 91.39>',\n",
    "    '<{<Method, HM(40)>, <Dataset, D_{n5}>}, F1, 58.52>',\n",
    "    '<{<Method, HM(40)>,<Dataset, D_{n5}>}, F1, 58.52>',\n",
    "    '<{<Model, DNN + BranchyNet>, <Dataset, FSPS>, <Mechanism, With BranchyNet>}, F1(Macro), 0.55>',\n",
    "    '<{<Model, DNN + BranchyNet>, <Dataset, FSPS>, <Mechanism, With BranchyNet>}, Accuracy, 89.6>',\n",
    "    '<{<Dataset, Abt-Buy>, <Existing Dataset, Dt1>}>',\n",
    "    '<{<Dataset, Abt-Buy>, <New Dataset, Dn1>}>',\n",
    "    '<{<Method, Barhom etal. (2019)>, <Dataset, GVC (Events)>}, Precision, 66.0>',\n",
    "    '<{<Method, Barhom etal. (2019)>, <Dataset, GVC (Events)>}, F1, 72.7>',\n",
    "\n",
    "    '<{<Method, HM(40), <Dataset, D_{n4}>}, F1, 91.39>',\n",
    "    '<{<Method, HM(40)>,<Dataset, D_{n5}>} F1, 58.52>',\n",
    "    '<{<Dataset, Abt-Buy>, <Existing Dataset, Dt1>>',\n",
    "    '<<Dataset, Abt-Buy>,<New Dataset, Dn1>}>',\n",
    "    '<<Dataset, Abt-Buy>,<New Dataset, Dn1>}>',\n",
    "    '{<Dataset, Abt-Buy>, <New Dataset, Dn1>}>',\n",
    "    '{<Dataset, Abt-Buy>, <New Dataset, Dn1>}',\n",
    "    '{<Dataset, Abt-Buy>, <New Dataset, Dn1>',\n",
    "    '<{<Method, HM(40)>>, <Dataset, D_{n4}>}, F1, 91.39>',\n",
    "    '<{<Method, HM(40), <Dataset, D_{n4}>}, F1, 91.39>',\n",
    "    '<{<><Method, HM(40)>, <Dataset, D_{n4}>}, F1, 91.39>',\n",
    "    '<{<<Method, HM(40)>, <Dataset, D_{n4}>}, F1, 91.39>',\n",
    "]"
   ],
   "metadata": {
    "collapsed": false,
    "pycharm": {
     "name": "#%%\n"
    }
   }
  },
  {
   "cell_type": "code",
   "execution_count": 8,
   "outputs": [
    {
     "name": "stdout",
     "output_type": "stream",
     "text": [
      "<{<Method, HM(40)>, <Dataset, D_{n4}>}, F1, 91.39>\n",
      "{'specifications': [('Method', 'HM(40)'), ('Dataset', 'D_{n4}')], 'measure': 'F1', 'outcome': '91.39'}\n",
      "\n",
      "\n",
      "\n",
      "<{<Method, HM(40)>,<Dataset, D_{n4}>}, F1, 91.39>\n",
      "{'specifications': [('Method', 'HM(40)'), ('Dataset', 'D_{n4}')], 'measure': 'F1', 'outcome': '91.39'}\n",
      "\n",
      "\n",
      "\n",
      "<{<Method, HM(40)>, <Dataset, D_{n5}>}, F1, 58.52>\n",
      "{'specifications': [('Method', 'HM(40)'), ('Dataset', 'D_{n5}')], 'measure': 'F1', 'outcome': '58.52'}\n",
      "\n",
      "\n",
      "\n",
      "<{<Method, HM(40)>,<Dataset, D_{n5}>}, F1, 58.52>\n",
      "{'specifications': [('Method', 'HM(40)'), ('Dataset', 'D_{n5}')], 'measure': 'F1', 'outcome': '58.52'}\n",
      "\n",
      "\n",
      "\n",
      "<{<Model, DNN + BranchyNet>, <Dataset, FSPS>, <Mechanism, With BranchyNet>}, F1(Macro), 0.55>\n",
      "{'specifications': [('Model', 'DNN + BranchyNet'), ('Dataset', 'FSPS'), ('Mechanism', 'With BranchyNet')], 'measure': 'F1(Macro)', 'outcome': '0.55'}\n",
      "\n",
      "\n",
      "\n",
      "<{<Model, DNN + BranchyNet>, <Dataset, FSPS>, <Mechanism, With BranchyNet>}, Accuracy, 89.6>\n",
      "{'specifications': [('Model', 'DNN + BranchyNet'), ('Dataset', 'FSPS'), ('Mechanism', 'With BranchyNet')], 'measure': 'Accuracy', 'outcome': '89.6'}\n",
      "\n",
      "\n",
      "\n",
      "<{<Dataset, Abt-Buy>, <Existing Dataset, Dt1>}>\n",
      "{'specifications': [('Dataset', 'Abt-Buy'), ('Existing Dataset', 'Dt1')], 'measure': '', 'outcome': ''}\n",
      "\n",
      "\n",
      "\n",
      "<{<Dataset, Abt-Buy>, <New Dataset, Dn1>}>\n",
      "{'specifications': [('Dataset', 'Abt-Buy'), ('New Dataset', 'Dn1')], 'measure': '', 'outcome': ''}\n",
      "\n",
      "\n",
      "\n",
      "<{<Method, Barhom etal. (2019)>, <Dataset, GVC (Events)>}, Precision, 66.0>\n",
      "{'specifications': [('Method', 'Barhom etal. (2019)'), ('Dataset', 'GVC (Events)')], 'measure': 'Precision', 'outcome': '66.0'}\n",
      "\n",
      "\n",
      "\n",
      "<{<Method, Barhom etal. (2019)>, <Dataset, GVC (Events)>}, F1, 72.7>\n",
      "{'specifications': [('Method', 'Barhom etal. (2019)'), ('Dataset', 'GVC (Events)')], 'measure': 'F1', 'outcome': '72.7'}\n",
      "\n",
      "\n",
      "\n",
      "<{<Method, HM(40), <Dataset, D_{n4}>}, F1, 91.39>\n",
      "None\n",
      "\n",
      "\n",
      "\n",
      "<{<Method, HM(40)>,<Dataset, D_{n5}>} F1, 58.52>\n",
      "None\n",
      "\n",
      "\n",
      "\n",
      "<{<Dataset, Abt-Buy>, <Existing Dataset, Dt1>>\n",
      "None\n",
      "\n",
      "\n",
      "\n",
      "<<Dataset, Abt-Buy>,<New Dataset, Dn1>}>\n",
      "None\n",
      "\n",
      "\n",
      "\n",
      "<<Dataset, Abt-Buy>,<New Dataset, Dn1>}>\n",
      "None\n",
      "\n",
      "\n",
      "\n",
      "{<Dataset, Abt-Buy>, <New Dataset, Dn1>}>\n",
      "None\n",
      "\n",
      "\n",
      "\n",
      "{<Dataset, Abt-Buy>, <New Dataset, Dn1>}\n",
      "None\n",
      "\n",
      "\n",
      "\n",
      "{<Dataset, Abt-Buy>, <New Dataset, Dn1>\n",
      "None\n",
      "\n",
      "\n",
      "\n",
      "<{<Method, HM(40)>>, <Dataset, D_{n4}>}, F1, 91.39>\n",
      "None\n",
      "\n",
      "\n",
      "\n",
      "<{<Method, HM(40), <Dataset, D_{n4}>}, F1, 91.39>\n",
      "None\n",
      "\n",
      "\n",
      "\n",
      "<{<><Method, HM(40)>, <Dataset, D_{n4}>}, F1, 91.39>\n",
      "None\n",
      "\n",
      "\n",
      "\n",
      "<{<<Method, HM(40)>, <Dataset, D_{n4}>}, F1, 91.39>\n",
      "None\n",
      "\n",
      "\n",
      "\n"
     ]
    }
   ],
   "source": [
    "for example in examples:\n",
    "    print(example)\n",
    "    print(cs.check_claim(example))\n",
    "    print('\\n\\n')\n"
   ],
   "metadata": {
    "collapsed": false,
    "pycharm": {
     "name": "#%%\n"
    }
   }
  },
  {
   "cell_type": "code",
   "execution_count": 6,
   "outputs": [],
   "source": [],
   "metadata": {
    "collapsed": false,
    "pycharm": {
     "name": "#%%\n"
    }
   }
  }
 ],
 "metadata": {
  "kernelspec": {
   "display_name": "Python 3",
   "language": "python",
   "name": "python3"
  },
  "language_info": {
   "codemirror_mode": {
    "name": "ipython",
    "version": 2
   },
   "file_extension": ".py",
   "mimetype": "text/x-python",
   "name": "python",
   "nbconvert_exporter": "python",
   "pygments_lexer": "ipython2",
   "version": "2.7.6"
  }
 },
 "nbformat": 4,
 "nbformat_minor": 0
}