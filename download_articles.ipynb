{
 "cells": [
  {
   "cell_type": "code",
   "execution_count": 1,
   "outputs": [],
   "source": [
    "from scripts import download\n",
    "from scripts import extraction"
   ],
   "metadata": {
    "collapsed": false,
    "pycharm": {
     "name": "#%%\n"
    }
   }
  },
  {
   "cell_type": "code",
   "execution_count": 2,
   "outputs": [],
   "source": [
    "search_query = \"NBA teams statistics\"\n",
    "directory_path = f\"experiments/articles/testing/{search_query}\""
   ],
   "metadata": {
    "collapsed": false,
    "pycharm": {
     "name": "#%%\n"
    }
   }
  },
  {
   "cell_type": "code",
   "execution_count": 3,
   "outputs": [
    {
     "name": "stdout",
     "output_type": "stream",
     "text": [
      "https://arxiv.org/abs/2403.20214 doesn't redirect to the original link. Downloading...\n",
      "Page downloaded: experiments/articles/testing/NBA teams statistics\\2403.20214.html\n",
      "https://arxiv.org/abs/2311.16564 doesn't redirect to the original link. Downloading...\n",
      "Page downloaded: experiments/articles/testing/NBA teams statistics\\2311.16564.html\n",
      "https://arxiv.org/abs/2309.05783 doesn't redirect to the original link. Downloading...\n",
      "Page downloaded: experiments/articles/testing/NBA teams statistics\\2309.05783.html\n",
      "https://arxiv.org/abs/2308.06851 redirects to the original link. Skipping...\n",
      "https://arxiv.org/abs/2307.16642 doesn't redirect to the original link. Downloading...\n",
      "Page downloaded: experiments/articles/testing/NBA teams statistics\\2307.16642.html\n",
      "https://arxiv.org/abs/2304.09918 doesn't redirect to the original link. Downloading...\n",
      "Page downloaded: experiments/articles/testing/NBA teams statistics\\2304.09918.html\n",
      "https://arxiv.org/abs/2304.01538 doesn't redirect to the original link. Downloading...\n",
      "Page downloaded: experiments/articles/testing/NBA teams statistics\\2304.01538.html\n",
      "https://arxiv.org/abs/2303.04963 doesn't redirect to the original link. Downloading...\n",
      "Page downloaded: experiments/articles/testing/NBA teams statistics\\2303.04963.html\n",
      "https://arxiv.org/abs/2302.13386 doesn't redirect to the original link. Downloading...\n",
      "Page downloaded: experiments/articles/testing/NBA teams statistics\\2302.13386.html\n",
      "https://arxiv.org/abs/2212.06804 redirects to the original link. Skipping...\n",
      "https://arxiv.org/abs/2210.17060 doesn't redirect to the original link. Downloading...\n",
      "Page downloaded: experiments/articles/testing/NBA teams statistics\\2210.17060.html\n",
      "https://arxiv.org/abs/2210.13687 doesn't redirect to the original link. Downloading...\n",
      "Page downloaded: experiments/articles/testing/NBA teams statistics\\2210.13687.html\n",
      "https://arxiv.org/abs/2206.09083 redirects to the original link. Skipping...\n",
      "https://arxiv.org/abs/2112.14649 doesn't redirect to the original link. Downloading...\n",
      "Page downloaded: experiments/articles/testing/NBA teams statistics\\2112.14649.html\n",
      "https://arxiv.org/abs/2109.07581 doesn't redirect to the original link. Downloading...\n",
      "Page downloaded: experiments/articles/testing/NBA teams statistics\\2109.07581.html\n",
      "https://arxiv.org/abs/2103.02832 doesn't redirect to the original link. Downloading...\n",
      "Page downloaded: experiments/articles/testing/NBA teams statistics\\2103.02832.html\n",
      "https://arxiv.org/abs/2009.06750 doesn't redirect to the original link. Downloading...\n",
      "Page downloaded: experiments/articles/testing/NBA teams statistics\\2009.06750.html\n",
      "https://arxiv.org/abs/2007.14694 doesn't redirect to the original link. Downloading...\n",
      "Page downloaded: experiments/articles/testing/NBA teams statistics\\2007.14694.html\n",
      "https://arxiv.org/abs/2004.08428 doesn't redirect to the original link. Downloading...\n",
      "Page downloaded: experiments/articles/testing/NBA teams statistics\\2004.08428.html\n",
      "https://arxiv.org/abs/1907.04842 doesn't redirect to the original link. Downloading...\n",
      "Page downloaded: experiments/articles/testing/NBA teams statistics\\1907.04842.html\n",
      "https://arxiv.org/abs/1902.10067 doesn't redirect to the original link. Downloading...\n",
      "Page downloaded: experiments/articles/testing/NBA teams statistics\\1902.10067.html\n",
      "https://arxiv.org/abs/1902.08081 doesn't redirect to the original link. Downloading...\n",
      "Page downloaded: experiments/articles/testing/NBA teams statistics\\1902.08081.html\n",
      "https://arxiv.org/abs/1809.01170 doesn't redirect to the original link. Downloading...\n",
      "Page downloaded: experiments/articles/testing/NBA teams statistics\\1809.01170.html\n",
      "https://arxiv.org/abs/1706.02447 doesn't redirect to the original link. Downloading...\n",
      "Page downloaded: experiments/articles/testing/NBA teams statistics\\1706.02447.html\n",
      "https://arxiv.org/abs/1704.00583 doesn't redirect to the original link. Downloading...\n",
      "Page downloaded: experiments/articles/testing/NBA teams statistics\\1704.00583.html\n",
      "https://arxiv.org/abs/1701.05976 doesn't redirect to the original link. Downloading...\n",
      "Page downloaded: experiments/articles/testing/NBA teams statistics\\1701.05976.html\n",
      "https://arxiv.org/abs/1609.03229 doesn't redirect to the original link. Downloading...\n",
      "Page downloaded: experiments/articles/testing/NBA teams statistics\\1609.03229.html\n",
      "https://arxiv.org/abs/1604.05266 doesn't redirect to the original link. Downloading...\n",
      "Page downloaded: experiments/articles/testing/NBA teams statistics\\1604.05266.html\n",
      "https://arxiv.org/abs/1604.03186 doesn't redirect to the original link. Downloading...\n",
      "Page downloaded: experiments/articles/testing/NBA teams statistics\\1604.03186.html\n",
      "https://arxiv.org/abs/1511.04351 doesn't redirect to the original link. Downloading...\n",
      "Page downloaded: experiments/articles/testing/NBA teams statistics\\1511.04351.html\n",
      "https://arxiv.org/abs/1507.01816 doesn't redirect to the original link. Downloading...\n",
      "Page downloaded: experiments/articles/testing/NBA teams statistics\\1507.01816.html\n",
      "https://arxiv.org/abs/1302.4735 doesn't redirect to the original link. Downloading...\n",
      "Page downloaded: experiments/articles/testing/NBA teams statistics\\1302.4735.html\n",
      "https://arxiv.org/abs/1301.3523 doesn't redirect to the original link. Downloading...\n",
      "Page downloaded: experiments/articles/testing/NBA teams statistics\\1301.3523.html\n",
      "https://arxiv.org/abs/1109.2825 doesn't redirect to the original link. Downloading...\n",
      "Page downloaded: experiments/articles/testing/NBA teams statistics\\1109.2825.html\n",
      "https://arxiv.org/abs/1108.0779 redirects to the original link. Skipping...\n",
      "https://arxiv.org/abs/1008.0705 doesn't redirect to the original link. Downloading...\n",
      "Page downloaded: experiments/articles/testing/NBA teams statistics\\1008.0705.html\n"
     ]
    }
   ],
   "source": [
    "# Download articles as HTML files\n",
    "download.get_articles(search_query, directory_path)"
   ],
   "metadata": {
    "collapsed": false,
    "pycharm": {
     "name": "#%%\n"
    }
   }
  },
  {
   "cell_type": "code",
   "execution_count": 2,
   "outputs": [],
   "source": [
    "def get_json_file_name(query: str) -> str:\n",
    "    query = ' '.join(query.split())\n",
    "    file_name = query.replace(' ', '_')\n",
    "    file_name = file_name.lower() + '.json'\n",
    "    return file_name\n",
    "\n",
    "\n",
    "def extract_and_save_tables(articles_directory: str, save_path: str):\n",
    "    articles_tables_map = extraction.extract_tables_from_directory(articles_directory)\n",
    "\n",
    "    num_tables = 0\n",
    "    for article_id, article_tables in articles_tables_map.items():\n",
    "        num_article_tables = len(article_tables)\n",
    "        num_tables += num_article_tables\n",
    "        print(f\"Article ID: {article_id} - # Tables Found: {num_article_tables}\")\n",
    "    print(f\"\\nTotal number of tables found: {num_tables}\")\n",
    "\n",
    "    extraction.save_tables_to_json(articles_tables_map, save_path)"
   ],
   "metadata": {
    "collapsed": false,
    "pycharm": {
     "name": "#%%\n"
    }
   }
  },
  {
   "cell_type": "code",
   "execution_count": null,
   "outputs": [],
   "source": [
    "extract_and_save_tables(directory_path, f'experiments/extracted_tables/testing/{get_json_file_name(search_query)}')"
   ],
   "metadata": {
    "collapsed": false,
    "pycharm": {
     "name": "#%%\n"
    }
   }
  },
  {
   "cell_type": "code",
   "execution_count": 3,
   "outputs": [
    {
     "name": "stdout",
     "output_type": "stream",
     "text": [
      "Article ID: 1701.08288 - # Tables Found: 2\n",
      "Article ID: 1806.07524 - # Tables Found: 1\n",
      "Article ID: 1912.01728 - # Tables Found: 3\n",
      "Article ID: 2110.05362 - # Tables Found: 7\n",
      "Article ID: 2301.04770 - # Tables Found: 3\n",
      "Article ID: 2303.03132 - # Tables Found: 6\n",
      "Article ID: 2304.12329 - # Tables Found: 6\n",
      "Article ID: 2307.01231 - # Tables Found: 8\n",
      "\n",
      "Total number of tables found: 36\n"
     ]
    }
   ],
   "source": [
    "extract_and_save_tables('experiments/articles/cs_dataset', 'experiments/extracted_tables/cs_tables.json')"
   ],
   "metadata": {
    "collapsed": false,
    "pycharm": {
     "name": "#%%\n"
    }
   }
  }
 ],
 "metadata": {
  "kernelspec": {
   "display_name": "Python 3",
   "language": "python",
   "name": "python3"
  },
  "language_info": {
   "codemirror_mode": {
    "name": "ipython",
    "version": 2
   },
   "file_extension": ".py",
   "mimetype": "text/x-python",
   "name": "python",
   "nbconvert_exporter": "python",
   "pygments_lexer": "ipython2",
   "version": "2.7.6"
  }
 },
 "nbformat": 4,
 "nbformat_minor": 0
}