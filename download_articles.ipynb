{
 "cells": [
  {
   "cell_type": "code",
   "execution_count": 1,
   "metadata": {
    "collapsed": false,
    "jupyter": {
     "outputs_hidden": false
    },
    "pycharm": {
     "name": "#%%\n"
    }
   },
   "outputs": [],
   "source": [
    "from scripts import download, extraction, utils\n",
    "import os"
   ]
  },
  {
   "cell_type": "code",
   "execution_count": 2,
   "metadata": {
    "collapsed": false,
    "jupyter": {
     "outputs_hidden": false
    },
    "pycharm": {
     "name": "#%%\n"
    }
   },
   "outputs": [],
   "source": [
    "search_query = \"Entity Matching Record Linkage\"\n",
    "directory_path = f\"experiments/articles/{search_query}\""
   ]
  },
  {
   "cell_type": "code",
   "execution_count": 3,
   "metadata": {
    "collapsed": false,
    "jupyter": {
     "outputs_hidden": false
    },
    "pycharm": {
     "name": "#%%\n"
    }
   },
   "outputs": [
    {
     "name": "stdout",
     "output_type": "stream",
     "text": [
      "https://arxiv.org/abs/2404.05622 doesn't redirect to the original link. Downloading...\n",
      "Page downloaded: experiments/articles/Entity Matching Record Linkage/2404.05622.html\n",
      "https://arxiv.org/abs/2404.05566 doesn't redirect to the original link. Downloading...\n",
      "Page downloaded: experiments/articles/Entity Matching Record Linkage/2404.05566.html\n",
      "https://arxiv.org/abs/2311.13923 doesn't redirect to the original link. Downloading...\n",
      "Page downloaded: experiments/articles/Entity Matching Record Linkage/2311.13923.html\n",
      "https://arxiv.org/abs/2212.05682 doesn't redirect to the original link. Downloading...\n",
      "Page downloaded: experiments/articles/Entity Matching Record Linkage/2212.05682.html\n",
      "https://arxiv.org/abs/2206.15089 doesn't redirect to the original link. Downloading...\n",
      "Page downloaded: experiments/articles/Entity Matching Record Linkage/2206.15089.html\n",
      "https://arxiv.org/abs/2201.04687 doesn't redirect to the original link. Downloading...\n",
      "Page downloaded: experiments/articles/Entity Matching Record Linkage/2201.04687.html\n",
      "https://arxiv.org/abs/2112.03346 doesn't redirect to the original link. Downloading...\n",
      "Page downloaded: experiments/articles/Entity Matching Record Linkage/2112.03346.html\n",
      "https://arxiv.org/abs/2110.14509 doesn't redirect to the original link. Downloading...\n",
      "Page downloaded: experiments/articles/Entity Matching Record Linkage/2110.14509.html\n",
      "https://arxiv.org/abs/2007.05881 doesn't redirect to the original link. Downloading...\n",
      "Page downloaded: experiments/articles/Entity Matching Record Linkage/2007.05881.html\n",
      "https://arxiv.org/abs/2003.05686 redirects to the original link. Skipping...\n",
      "https://arxiv.org/abs/1911.12930 doesn't redirect to the original link. Downloading...\n",
      "Page downloaded: experiments/articles/Entity Matching Record Linkage/1911.12930.html\n",
      "https://arxiv.org/abs/1907.08667 doesn't redirect to the original link. Downloading...\n",
      "Page downloaded: experiments/articles/Entity Matching Record Linkage/1907.08667.html\n",
      "https://arxiv.org/abs/1905.05337 doesn't redirect to the original link. Downloading...\n",
      "Page downloaded: experiments/articles/Entity Matching Record Linkage/1905.05337.html\n",
      "https://arxiv.org/abs/1901.04779 redirects to the original link. Skipping...\n",
      "https://arxiv.org/abs/1810.01538 doesn't redirect to the original link. Downloading...\n",
      "Page downloaded: experiments/articles/Entity Matching Record Linkage/1810.01538.html\n",
      "https://arxiv.org/abs/1801.04101 doesn't redirect to the original link. Downloading...\n",
      "Page downloaded: experiments/articles/Entity Matching Record Linkage/1801.04101.html\n",
      "https://arxiv.org/abs/1710.10558 doesn't redirect to the original link. Downloading...\n",
      "Page downloaded: experiments/articles/Entity Matching Record Linkage/1710.10558.html\n",
      "https://arxiv.org/abs/1612.08835 doesn't redirect to the original link. Downloading...\n",
      "Page downloaded: experiments/articles/Entity Matching Record Linkage/1612.08835.html\n",
      "https://arxiv.org/abs/1612.04286 doesn't redirect to the original link. Downloading...\n",
      "Page downloaded: experiments/articles/Entity Matching Record Linkage/1612.04286.html\n",
      "https://arxiv.org/abs/1609.06265 redirects to the original link. Skipping...\n",
      "https://arxiv.org/abs/1601.06630 doesn't redirect to the original link. Downloading...\n",
      "Page downloaded: experiments/articles/Entity Matching Record Linkage/1601.06630.html\n",
      "https://arxiv.org/abs/1405.2048 doesn't redirect to the original link. Downloading...\n",
      "Page downloaded: experiments/articles/Entity Matching Record Linkage/1405.2048.html\n",
      "https://arxiv.org/abs/1402.0282 doesn't redirect to the original link. Downloading...\n",
      "Page downloaded: experiments/articles/Entity Matching Record Linkage/1402.0282.html\n",
      "https://arxiv.org/abs/1212.5203 doesn't redirect to the original link. Downloading...\n",
      "Page downloaded: experiments/articles/Entity Matching Record Linkage/1212.5203.html\n",
      "# of articles found: 24\n",
      "# of articles available: 21\n",
      "# of articles downloaded: 21\n"
     ]
    }
   ],
   "source": [
    "# Download articles as HTML files\n",
    "download.get_articles(search_query, directory_path)"
   ]
  },
  {
   "cell_type": "code",
   "execution_count": 4,
   "metadata": {
    "collapsed": false,
    "jupyter": {
     "outputs_hidden": false
    },
    "pycharm": {
     "name": "#%%\n"
    }
   },
   "outputs": [],
   "source": [
    "def get_json_file_name(query: str) -> str:\n",
    "    query = ' '.join(query.split())\n",
    "    file_name = query.replace(' ', '_')\n",
    "    file_name = file_name.lower() + '.json'\n",
    "    return file_name\n",
    "\n",
    "\n",
    "def extract_and_save_tables(articles_directory: str, save_path: str, file_name: str):\n",
    "    articles_tables_map = extraction.extract_tables_from_directory(articles_directory)\n",
    "\n",
    "    utils.check_path(save_path)\n",
    "    file_name = os.path.join(save_path, file_name)\n",
    "\n",
    "    num_tables = 0\n",
    "    for article_id, article_tables in articles_tables_map.items():\n",
    "        num_article_tables = len(article_tables)\n",
    "        num_tables += num_article_tables\n",
    "        print(f\"Article ID: {article_id} - # Tables Found: {num_article_tables}\")\n",
    "    print(f\"\\nTotal number of tables found: {num_tables}\")\n",
    "\n",
    "    extraction.save_tables_to_json(articles_tables_map, file_name)"
   ]
  },
  {
   "cell_type": "code",
   "execution_count": 5,
   "metadata": {
    "collapsed": false,
    "jupyter": {
     "outputs_hidden": false
    },
    "pycharm": {
     "name": "#%%\n"
    }
   },
   "outputs": [
    {
     "name": "stdout",
     "output_type": "stream",
     "text": [
      "Article ID: 2007.05881 - # Tables Found: 6\n",
      "Article ID: 1905.05337 - # Tables Found: 12\n",
      "Article ID: 2206.15089 - # Tables Found: 0\n",
      "Article ID: 2404.05566 - # Tables Found: 10\n",
      "Article ID: 2110.14509 - # Tables Found: 9\n",
      "Article ID: 2311.13923 - # Tables Found: 6\n",
      "Article ID: 1212.5203 - # Tables Found: 0\n",
      "Article ID: 1601.06630 - # Tables Found: 4\n",
      "Article ID: 1402.0282 - # Tables Found: 2\n",
      "Article ID: 2201.04687 - # Tables Found: 3\n",
      "Article ID: 2404.05622 - # Tables Found: 1\n",
      "Article ID: 1405.2048 - # Tables Found: 4\n",
      "Article ID: 2212.05682 - # Tables Found: 0\n",
      "Article ID: 1911.12930 - # Tables Found: 2\n",
      "Article ID: 2112.03346 - # Tables Found: 5\n",
      "\n",
      "Total number of tables found: 64\n"
     ]
    }
   ],
   "source": [
    "extract_and_save_tables(directory_path, f'experiments/extracted_tables', get_json_file_name(search_query))\n",
    "\n",
    "\n",
    "# extract_and_save_tables('experiments/articles/cs_dataset', 'experiments/extracted_tables/cs_tables.json')"
   ]
  }
 ],
 "metadata": {
  "kernelspec": {
   "display_name": "Python 3 (ipykernel)",
   "language": "python",
   "name": "python3"
  },
  "language_info": {
   "codemirror_mode": {
    "name": "ipython",
    "version": 3
   },
   "file_extension": ".py",
   "mimetype": "text/x-python",
   "name": "python",
   "nbconvert_exporter": "python",
   "pygments_lexer": "ipython3",
   "version": "3.11.9"
  }
 },
 "nbformat": 4,
 "nbformat_minor": 4
}
