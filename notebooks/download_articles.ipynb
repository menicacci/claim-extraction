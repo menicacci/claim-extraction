{
 "cells": [
  {
   "cell_type": "code",
   "execution_count": 1,
   "metadata": {
    "collapsed": false,
    "jupyter": {
     "outputs_hidden": false
    },
    "pycharm": {
     "name": "#%%\n"
    }
   },
   "outputs": [],
   "source": [
    "import sys\n",
    "import os\n",
    "sys.path.append(os.path.abspath(os.path.join('..')))\n",
    "\n",
    "from scripts import download, extraction, utils\n",
    "\n",
    "experiments_path = os.path.abspath(os.path.expandvars(\"$GITHUB_HOME/claim-extraction/experiments\"))"
   ]
  },
  {
   "cell_type": "code",
   "execution_count": 2,
   "metadata": {
    "collapsed": false,
    "jupyter": {
     "outputs_hidden": false
    },
    "pycharm": {
     "name": "#%%\n"
    }
   },
   "outputs": [],
   "source": [
    "search_query = \"Entity Matching Record Linkage Models\"\n",
    "\n",
    "articles_path = os.path.join(experiments_path, f\"articles/{search_query}\")\n",
    "tables_path = os.path.join(experiments_path, \"extracted_tables\")"
   ]
  },
  {
   "cell_type": "code",
   "execution_count": 3,
   "metadata": {
    "collapsed": false,
    "jupyter": {
     "outputs_hidden": false
    },
    "pycharm": {
     "name": "#%%\n"
    }
   },
   "outputs": [
    {
     "name": "stdout",
     "output_type": "stream",
     "text": [
      "https://arxiv.org/abs/2404.05622 doesn't redirect to the original link. Downloading...\n",
      "Page downloaded: /home/matteo/workspace/menicacci/claim-extraction/experiments/articles/Entity Matching Record Linkage Models/2404.05622.html\n",
      "https://arxiv.org/abs/2404.05566 doesn't redirect to the original link. Downloading...\n",
      "Page downloaded: /home/matteo/workspace/menicacci/claim-extraction/experiments/articles/Entity Matching Record Linkage Models/2404.05566.html\n",
      "https://arxiv.org/abs/2201.04687 doesn't redirect to the original link. Downloading...\n",
      "Page downloaded: /home/matteo/workspace/menicacci/claim-extraction/experiments/articles/Entity Matching Record Linkage Models/2201.04687.html\n",
      "https://arxiv.org/abs/2110.14509 doesn't redirect to the original link. Downloading...\n",
      "Page downloaded: /home/matteo/workspace/menicacci/claim-extraction/experiments/articles/Entity Matching Record Linkage Models/2110.14509.html\n",
      "https://arxiv.org/abs/2007.05881 doesn't redirect to the original link. Downloading...\n",
      "Page downloaded: /home/matteo/workspace/menicacci/claim-extraction/experiments/articles/Entity Matching Record Linkage Models/2007.05881.html\n",
      "https://arxiv.org/abs/1801.04101 doesn't redirect to the original link. Downloading...\n",
      "Page downloaded: /home/matteo/workspace/menicacci/claim-extraction/experiments/articles/Entity Matching Record Linkage Models/1801.04101.html\n",
      "https://arxiv.org/abs/1612.08835 doesn't redirect to the original link. Downloading...\n",
      "Page downloaded: /home/matteo/workspace/menicacci/claim-extraction/experiments/articles/Entity Matching Record Linkage Models/1612.08835.html\n",
      "https://arxiv.org/abs/1609.06265 redirects to the original link. Skipping...\n",
      "https://arxiv.org/abs/1405.2048 doesn't redirect to the original link. Downloading...\n",
      "Page downloaded: /home/matteo/workspace/menicacci/claim-extraction/experiments/articles/Entity Matching Record Linkage Models/1405.2048.html\n",
      "https://arxiv.org/abs/1212.5203 doesn't redirect to the original link. Downloading...\n",
      "Page downloaded: /home/matteo/workspace/menicacci/claim-extraction/experiments/articles/Entity Matching Record Linkage Models/1212.5203.html\n",
      "# of articles found: 10\n",
      "# of articles available: 9\n",
      "# of articles downloaded: 9\n"
     ]
    }
   ],
   "source": [
    "# Download articles as HTML files\n",
    "download.get_articles(search_query, articles_path)"
   ]
  },
  {
   "cell_type": "code",
   "execution_count": 4,
   "metadata": {
    "collapsed": false,
    "jupyter": {
     "outputs_hidden": false
    },
    "pycharm": {
     "name": "#%%\n"
    }
   },
   "outputs": [],
   "source": [
    "def get_json_file_name(query: str) -> str:\n",
    "    query = ' '.join(query.split())\n",
    "    file_name = query.replace(' ', '_')\n",
    "    file_name = file_name.lower() + '.json'\n",
    "    return file_name\n",
    "\n",
    "\n",
    "def extract_and_save_tables(articles_directory: str, save_path: str, file_name: str):\n",
    "    articles_tables_map = extraction.extract_tables_from_directory(articles_directory)\n",
    "\n",
    "    utils.check_path(save_path)\n",
    "    file_name = os.path.join(save_path, file_name)\n",
    "\n",
    "    num_tables = 0\n",
    "    for article_id, article_tables in articles_tables_map.items():\n",
    "        num_article_tables = len(article_tables)\n",
    "        num_tables += num_article_tables\n",
    "        print(f\"Article ID: {article_id} - # Tables Found: {num_article_tables}\")\n",
    "    print(f\"\\nTotal number of tables found: {num_tables}\")\n",
    "\n",
    "    extraction.save_tables_to_json(articles_tables_map, file_name)"
   ]
  },
  {
   "cell_type": "code",
   "execution_count": 5,
   "metadata": {
    "collapsed": false,
    "jupyter": {
     "outputs_hidden": false
    },
    "pycharm": {
     "name": "#%%\n"
    }
   },
   "outputs": [
    {
     "name": "stdout",
     "output_type": "stream",
     "text": [
      "Article ID: 2007.05881 - # Tables Found: 6\n",
      "Article ID: 2404.05566 - # Tables Found: 10\n",
      "Article ID: 2110.14509 - # Tables Found: 9\n",
      "Article ID: 1212.5203 - # Tables Found: 0\n",
      "Article ID: 1801.04101 - # Tables Found: 1\n",
      "Article ID: 2201.04687 - # Tables Found: 3\n",
      "Article ID: 1612.08835 - # Tables Found: 4\n",
      "Article ID: 2404.05622 - # Tables Found: 1\n",
      "Article ID: 1405.2048 - # Tables Found: 4\n",
      "\n",
      "Total number of tables found: 38\n"
     ]
    }
   ],
   "source": [
    "extract_and_save_tables(articles_path, tables_path, get_json_file_name(search_query))"
   ]
  }
 ],
 "metadata": {
  "kernelspec": {
   "display_name": "Python 3 (ipykernel)",
   "language": "python",
   "name": "python3"
  },
  "language_info": {
   "codemirror_mode": {
    "name": "ipython",
    "version": 3
   },
   "file_extension": ".py",
   "mimetype": "text/x-python",
   "name": "python",
   "nbconvert_exporter": "python",
   "pygments_lexer": "ipython3",
   "version": "3.11.9"
  }
 },
 "nbformat": 4,
 "nbformat_minor": 4
}
