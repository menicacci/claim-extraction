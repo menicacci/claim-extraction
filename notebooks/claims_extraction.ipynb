{
 "cells": [
  {
   "cell_type": "code",
   "execution_count": 1,
   "metadata": {
    "collapsed": false,
    "pycharm": {
     "name": "#%%\n"
    }
   },
   "outputs": [],
   "source": [
    "import sys\n",
    "import os\n",
    "sys.path.append(os.path.abspath(os.path.join('..')))\n",
    "\n",
    "from scripts import request, table, utils\n",
    "\n",
    "project_path = os.path.abspath(os.path.expandvars(\"$GITHUB_HOME/claim-extraction\"))\n",
    "experiments_path = os.path.join(project_path, \"experiments\")"
   ]
  },
  {
   "cell_type": "code",
   "execution_count": 2,
   "metadata": {},
   "outputs": [],
   "source": [
    "connection_infos = request.extract_infos('../private.json')\n",
    "\n",
    "msgs_base_path = os.path.join(project_path, 'messages/CS')\n",
    "\n",
    "msgs_file_paths = {\n",
    "    'system_1':  f'{msgs_base_path}/system_1.txt',\n",
    "    'system_2':  f'{msgs_base_path}/system_2.txt',\n",
    "    'user_1':    f'{msgs_base_path}/user_1.txt',\n",
    "    'user_2':    f'{msgs_base_path}/user_2.txt',\n",
    "    'assistant': f'{msgs_base_path}/assistant.txt'\n",
    "}\n",
    "\n",
    "output_dir = os.path.join(experiments_path, f'output/cs_dataset')\n",
    "utils.check_path(output_dir)\n",
    "\n",
    "tables_file_path = os.path.join(experiments_path, 'extracted_tables/CS_Dataset.json')\n",
    "\n",
    "answers_path = os.path.join(output_dir, \"answers\")"
   ]
  },
  {
   "cell_type": "code",
   "execution_count": null,
   "metadata": {
    "collapsed": false,
    "pycharm": {
     "name": "#%%\n"
    }
   },
   "outputs": [],
   "source": [
    "num_thread = 40\n",
    "\n",
    "while True:\n",
    "    tables_to_process = table.check_processed_tables(tables_file_path, answers_path)\n",
    "    if tables_to_process == 0:\n",
    "        break\n",
    "\n",
    "    tables = table.load_tables_from_json(tables_file_path)\n",
    "    request.run(connection_infos, msgs_file_paths, tables, output_dir, min(num_thread, tables_to_process))"
   ]
  },
  {
   "cell_type": "code",
   "execution_count": 4,
   "metadata": {
    "collapsed": false,
    "pycharm": {
     "name": "#%%\n"
    }
   },
   "outputs": [],
   "source": [
    "answers_path = os.path.join(output_dir, \"answers\")\n",
    "table.check_processed_tables(tables_file_path, answers_path)"
   ]
  }
 ],
 "metadata": {
  "kernelspec": {
   "display_name": "Python 3",
   "language": "python",
   "name": "python3"
  },
  "language_info": {
   "codemirror_mode": {
    "name": "ipython",
    "version": 3
   },
   "file_extension": ".py",
   "mimetype": "text/x-python",
   "name": "python",
   "nbconvert_exporter": "python",
   "pygments_lexer": "ipython3",
   "version": "3.11.9"
  }
 },
 "nbformat": 4,
 "nbformat_minor": 0
}
