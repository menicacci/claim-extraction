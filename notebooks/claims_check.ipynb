{
 "cells": [
  {
   "cell_type": "code",
   "execution_count": 1,
   "metadata": {
    "pycharm": {
     "name": "#%%\n"
    }
   },
   "outputs": [],
   "source": [
    "import sys\n",
    "import os\n",
    "sys.path.append(os.path.abspath(os.path.join('..')))\n",
    "\n",
    "from scripts import table, utils, eval, check_claim_structure as cs\n",
    "from scripts.similarity import Similarity\n",
    "\n",
    "experiments_path = os.path.abspath(os.path.expandvars(\"$GITHUB_HOME/claim-extraction/experiments\"))"
   ]
  },
  {
   "cell_type": "code",
   "execution_count": 2,
   "metadata": {
    "pycharm": {
     "name": "#%%\n"
    }
   },
   "outputs": [],
   "source": [
    "tables_file_path = os.path.join(experiments_path, 'extracted_tables/cs_tables.json')\n",
    "dataset_path = os.path.join(experiments_path, 'output/cs_main')\n",
    "\n",
    "d_results = eval.process_datasets(tables_file_path, dataset_path, False)"
   ]
  },
  {
   "cell_type": "code",
   "execution_count": 3,
   "metadata": {
    "pycharm": {
     "name": "#%%\n"
    }
   },
   "outputs": [
    {
     "data": {
      "image/png": "[encoded data removed]",
      "text/plain": [
       "<Figure size 1200x400 with 2 Axes>"
      ]
     },
     "metadata": {},
     "output_type": "display_data"
    }
   ],
   "source": [
    "color_info = utils.plot_dataset_results(d_results, 2)"
   ]
  },
  {
   "cell_type": "code",
   "execution_count": 26,
   "metadata": {},
   "outputs": [
    {
     "name": "stdout",
     "output_type": "stream",
     "text": [
      "Dir: 1\n",
      "2303.03132(\u001b[48;2;31;119;180m  \u001b[0m)\t1701.08288(\u001b[48;2;255;127;14m  \u001b[0m)\t1806.07524(\u001b[48;2;44;160;44m  \u001b[0m)\t1912.01728(\u001b[48;2;214;39;40m  \u001b[0m)\t2307.01231(\u001b[48;2;148;103;189m  \u001b[0m)\t2301.04770(\u001b[48;2;140;86;75m  \u001b[0m)\t2304.12329(\u001b[48;2;227;119;194m  \u001b[0m)\t2110.05362(\u001b[48;2;127;127;127m  \u001b[0m)\t\n",
      "Dir: 2\n",
      "2303.03132(\u001b[48;2;31;119;180m  \u001b[0m)\t1701.08288(\u001b[48;2;255;127;14m  \u001b[0m)\t1806.07524(\u001b[48;2;44;160;44m  \u001b[0m)\t1912.01728(\u001b[48;2;214;39;40m  \u001b[0m)\t2307.01231(\u001b[48;2;148;103;189m  \u001b[0m)\t2301.04770(\u001b[48;2;140;86;75m  \u001b[0m)\t2304.12329(\u001b[48;2;227;119;194m  \u001b[0m)\t2110.05362(\u001b[48;2;127;127;127m  \u001b[0m)\t\n"
     ]
    }
   ],
   "source": [
    "utils.show_key_group_colors(color_info)"
   ]
  },
  {
   "cell_type": "code",
   "execution_count": 4,
   "metadata": {
    "pycharm": {
     "name": "#%%\n"
    }
   },
   "outputs": [
    {
     "data": {
      "text/plain": [
       "1.0"
      ]
     },
     "execution_count": 4,
     "metadata": {},
     "output_type": "execute_result"
    }
   ],
   "source": [
    "# How it works\n",
    "answers_path = os.path.join(experiments_path, 'output/cs_main/1/answers')\n",
    "output_path = os.path.join(experiments_path, 'output/cs_main/1/claims.json')\n",
    "tables_file_path = os.path.join(experiments_path, 'extracted_tables/cs_tables.json')\n",
    "\n",
    "claims = cs.extract_answers(answers_path, output_path)\n",
    "tables = table.load_tables_from_json(tables_file_path)\n",
    "\n",
    "article_id = '2307.01231'\n",
    "table_idx = 1\n",
    "\n",
    "html_table = tables[article_id][table_idx]['table']\n",
    "table_values, table_pd = cs.get_table_values(html_table)\n",
    "\n",
    "claim_values = claims[article_id][table_idx]['extracted_claims']\n",
    "claim_specs, claim_results, all_values_extracted = cs.count_specifications(claim_values)\n",
    "\n",
    "unique_table_vales = utils.remove_duplicates(table_values)\n",
    "unique_values_extracted = utils.remove_duplicates(all_values_extracted)\n",
    "\n",
    "similarities = Similarity().find_similar_strings(unique_table_vales, unique_values_extracted)\n",
    "\n",
    "eval.evaluate(similarities, table_values, all_values_extracted)"
   ]
  },
  {
   "cell_type": "code",
   "execution_count": 5,
   "metadata": {
    "collapsed": false,
    "pycharm": {
     "name": "#%%\n"
    }
   },
   "outputs": [
    {
     "data": {
      "text/html": [
       "<div>\n",
       "<style scoped>\n",
       "    .dataframe tbody tr th:only-of-type {\n",
       "        vertical-align: middle;\n",
       "    }\n",
       "\n",
       "    .dataframe tbody tr th {\n",
       "        vertical-align: top;\n",
       "    }\n",
       "\n",
       "    .dataframe thead tr th {\n",
       "        text-align: left;\n",
       "    }\n",
       "</style>\n",
       "<table border=\"1\" class=\"dataframe\">\n",
       "  <thead>\n",
       "    <tr>\n",
       "      <th></th>\n",
       "      <th>DL-based</th>\n",
       "      <th>Token embedding</th>\n",
       "      <th>Schema</th>\n",
       "      <th>Entity similarity</th>\n",
       "    </tr>\n",
       "    <tr>\n",
       "      <th></th>\n",
       "      <th>algorithm</th>\n",
       "      <th>context</th>\n",
       "      <th>awareness</th>\n",
       "      <th>context</th>\n",
       "    </tr>\n",
       "  </thead>\n",
       "  <tbody>\n",
       "    <tr>\n",
       "      <th>0</th>\n",
       "      <td>DeepMatcher</td>\n",
       "      <td>Static</td>\n",
       "      <td>Homogeneous</td>\n",
       "      <td>Local</td>\n",
       "    </tr>\n",
       "    <tr>\n",
       "      <th>1</th>\n",
       "      <td>EMTransformer</td>\n",
       "      <td>Dynamic</td>\n",
       "      <td>Heterogeneous</td>\n",
       "      <td>Local</td>\n",
       "    </tr>\n",
       "    <tr>\n",
       "      <th>2</th>\n",
       "      <td>GNEM</td>\n",
       "      <td>Static, Dynamic</td>\n",
       "      <td>Homogeneous</td>\n",
       "      <td>Global</td>\n",
       "    </tr>\n",
       "    <tr>\n",
       "      <th>3</th>\n",
       "      <td>HierMatcher</td>\n",
       "      <td>Dynamic</td>\n",
       "      <td>Heterogeneous</td>\n",
       "      <td>Local</td>\n",
       "    </tr>\n",
       "    <tr>\n",
       "      <th>4</th>\n",
       "      <td>DITTO</td>\n",
       "      <td>Dynamic</td>\n",
       "      <td>Heterogeneous</td>\n",
       "      <td>Local</td>\n",
       "    </tr>\n",
       "  </tbody>\n",
       "</table>\n",
       "</div>"
      ],
      "text/plain": [
       "        DL-based  Token embedding         Schema Entity similarity\n",
       "       algorithm          context      awareness           context\n",
       "0    DeepMatcher           Static    Homogeneous             Local\n",
       "1  EMTransformer          Dynamic  Heterogeneous             Local\n",
       "2           GNEM  Static, Dynamic    Homogeneous            Global\n",
       "3    HierMatcher          Dynamic  Heterogeneous             Local\n",
       "4          DITTO          Dynamic  Heterogeneous             Local"
      ]
     },
     "execution_count": 5,
     "metadata": {},
     "output_type": "execute_result"
    }
   ],
   "source": [
    "table_pd[0].head()"
   ]
  },
  {
   "cell_type": "code",
   "execution_count": 6,
   "metadata": {},
   "outputs": [
    {
     "data": {
      "text/plain": [
       "{'Static': ['Static'],\n",
       " 'Token embedding context': ['Token embedding context'],\n",
       " 'Dynamic': ['Dynamic'],\n",
       " 'DeepMatcher': ['DeepMatcher'],\n",
       " 'GNEM': ['GNEM'],\n",
       " 'Static, Dynamic': ['Static, Dynamic'],\n",
       " 'Local': ['Local'],\n",
       " 'DL-based algorithm': ['DL-based algorithm'],\n",
       " 'Schema awareness': ['Schema awareness'],\n",
       " 'Entity similarity context': ['Entity similarity context'],\n",
       " 'EMTransformer': ['EMTransformer'],\n",
       " 'Homogeneous': ['Homogeneous'],\n",
       " 'Global': ['Global'],\n",
       " 'HierMatcher': ['HierMatcher'],\n",
       " 'DITTO': ['DITTO'],\n",
       " 'Heterogeneous': ['Heterogeneous']}"
      ]
     },
     "execution_count": 6,
     "metadata": {},
     "output_type": "execute_result"
    }
   ],
   "source": [
    "similarities"
   ]
  }
 ],
 "metadata": {
  "kernelspec": {
   "display_name": "Python 3 (ipykernel)",
   "language": "python",
   "name": "python3"
  },
  "language_info": {
   "codemirror_mode": {
    "name": "ipython",
    "version": 3
   },
   "file_extension": ".py",
   "mimetype": "text/x-python",
   "name": "python",
   "nbconvert_exporter": "python",
   "pygments_lexer": "ipython3",
   "version": "3.11.9"
  }
 },
 "nbformat": 4,
 "nbformat_minor": 1
}
