{
 "cells": [
  {
   "cell_type": "code",
   "execution_count": null,
   "metadata": {
    "pycharm": {
     "name": "#%%\n"
    }
   },
   "outputs": [],
   "source": [
    "import sys\n",
    "import os\n",
    "sys.path.append(os.path.abspath(os.path.join('..')))\n",
    "\n",
    "from scripts import table, utils, eval, check_claim_structure as cs\n",
    "from scripts.similarity import Similarity\n",
    "\n",
    "experiments_path = os.path.abspath(os.path.expandvars(\"$GITHUB_HOME/claim-extraction/experiments\"))"
   ]
  },
  {
   "cell_type": "code",
   "execution_count": null,
   "metadata": {
    "pycharm": {
     "name": "#%%\n"
    }
   },
   "outputs": [],
   "source": [
    "tables_file_path = os.path.join(experiments_path, 'extracted_tables/cs_tables.json')\n",
    "dataset_path = os.path.join(experiments_path, 'output/cs_main')\n",
    "\n",
    "d_results = eval.process_datasets(tables_file_path, dataset_path)"
   ]
  },
  {
   "cell_type": "code",
   "execution_count": null,
   "metadata": {
    "pycharm": {
     "name": "#%%\n"
    }
   },
   "outputs": [],
   "source": [
    "utils.plot_dataset_results(d_results, 2)"
   ]
  },
  {
   "cell_type": "code",
   "execution_count": 8,
   "metadata": {
    "pycharm": {
     "name": "#%%\n"
    }
   },
   "outputs": [
    {
     "data": {
      "text/plain": [
       "1.0"
      ]
     },
     "execution_count": 8,
     "metadata": {},
     "output_type": "execute_result"
    }
   ],
   "source": [
    "answers_path = os.path.join(experiments_path, 'output/cs_main/1/answers')\n",
    "output_path = os.path.join(experiments_path, 'output/cs_main/1/claims.json')\n",
    "tables_file_path = os.path.join(experiments_path, 'extracted_tables/cs_tables.json')\n",
    "\n",
    "claims = cs.extract_answers(answers_path, output_path)\n",
    "tables = table.load_tables_from_json(tables_file_path)\n",
    "\n",
    "similarity = Similarity()\n",
    "\n",
    "\n",
    "article_id = '2307.01231'\n",
    "table_idx = 1\n",
    "\n",
    "html_table = tables[article_id][table_idx]['table']\n",
    "table_values, table_pd = cs.get_table_values(html_table)\n",
    "\n",
    "claim_values = claims[article_id][table_idx]['extracted_claims']\n",
    "claim_specs, claim_results, all_values_extracted = cs.count_specifications(claim_values)\n",
    "\n",
    "unique_table_vales = utils.remove_duplicates(table_values)\n",
    "unique_values_extracted = utils.remove_duplicates(all_values_extracted)\n",
    "\n",
    "similarities = similarity.find_similar_strings(unique_table_vales, unique_values_extracted)\n",
    "\n",
    "eval.evaluate(similarities, table_values, all_values_extracted)"
   ]
  },
  {
   "cell_type": "code",
   "execution_count": 9,
   "metadata": {
    "collapsed": false,
    "pycharm": {
     "name": "#%%\n"
    }
   },
   "outputs": [
    {
     "data": {
      "text/html": [
       "<div>\n",
       "<style scoped>\n",
       "    .dataframe tbody tr th:only-of-type {\n",
       "        vertical-align: middle;\n",
       "    }\n",
       "\n",
       "    .dataframe tbody tr th {\n",
       "        vertical-align: top;\n",
       "    }\n",
       "\n",
       "    .dataframe thead tr th {\n",
       "        text-align: left;\n",
       "    }\n",
       "</style>\n",
       "<table border=\"1\" class=\"dataframe\">\n",
       "  <thead>\n",
       "    <tr>\n",
       "      <th></th>\n",
       "      <th>DL-based</th>\n",
       "      <th>Token embedding</th>\n",
       "      <th>Schema</th>\n",
       "      <th>Entity similarity</th>\n",
       "    </tr>\n",
       "    <tr>\n",
       "      <th></th>\n",
       "      <th>algorithm</th>\n",
       "      <th>context</th>\n",
       "      <th>awareness</th>\n",
       "      <th>context</th>\n",
       "    </tr>\n",
       "  </thead>\n",
       "  <tbody>\n",
       "    <tr>\n",
       "      <th>0</th>\n",
       "      <td>DeepMatcher</td>\n",
       "      <td>Static</td>\n",
       "      <td>Homogeneous</td>\n",
       "      <td>Local</td>\n",
       "    </tr>\n",
       "    <tr>\n",
       "      <th>1</th>\n",
       "      <td>EMTransformer</td>\n",
       "      <td>Dynamic</td>\n",
       "      <td>Heterogeneous</td>\n",
       "      <td>Local</td>\n",
       "    </tr>\n",
       "    <tr>\n",
       "      <th>2</th>\n",
       "      <td>GNEM</td>\n",
       "      <td>Static, Dynamic</td>\n",
       "      <td>Homogeneous</td>\n",
       "      <td>Global</td>\n",
       "    </tr>\n",
       "    <tr>\n",
       "      <th>3</th>\n",
       "      <td>HierMatcher</td>\n",
       "      <td>Dynamic</td>\n",
       "      <td>Heterogeneous</td>\n",
       "      <td>Local</td>\n",
       "    </tr>\n",
       "    <tr>\n",
       "      <th>4</th>\n",
       "      <td>DITTO</td>\n",
       "      <td>Dynamic</td>\n",
       "      <td>Heterogeneous</td>\n",
       "      <td>Local</td>\n",
       "    </tr>\n",
       "  </tbody>\n",
       "</table>\n",
       "</div>"
      ],
      "text/plain": [
       "        DL-based  Token embedding         Schema Entity similarity\n",
       "       algorithm          context      awareness           context\n",
       "0    DeepMatcher           Static    Homogeneous             Local\n",
       "1  EMTransformer          Dynamic  Heterogeneous             Local\n",
       "2           GNEM  Static, Dynamic    Homogeneous            Global\n",
       "3    HierMatcher          Dynamic  Heterogeneous             Local\n",
       "4          DITTO          Dynamic  Heterogeneous             Local"
      ]
     },
     "execution_count": 9,
     "metadata": {},
     "output_type": "execute_result"
    }
   ],
   "source": [
    "table_pd[0].head()"
   ]
  },
  {
   "cell_type": "code",
   "execution_count": 10,
   "metadata": {},
   "outputs": [
    {
     "data": {
      "text/plain": [
       "{'Token embedding context': ['Token embedding context'],\n",
       " 'Heterogeneous': ['Heterogeneous'],\n",
       " 'Static': ['Static'],\n",
       " 'Static, Dynamic': ['Static, Dynamic'],\n",
       " 'Entity similarity context': ['Entity similarity context'],\n",
       " 'EMTransformer': ['EMTransformer'],\n",
       " 'Dynamic': ['Dynamic'],\n",
       " 'Global': ['Global'],\n",
       " 'DITTO': ['DITTO'],\n",
       " 'HierMatcher': ['HierMatcher'],\n",
       " 'Homogeneous': ['Homogeneous'],\n",
       " 'DL-based algorithm': ['DL-based algorithm'],\n",
       " 'Local': ['Local'],\n",
       " 'Schema awareness': ['Schema awareness'],\n",
       " 'GNEM': ['GNEM'],\n",
       " 'DeepMatcher': ['DeepMatcher']}"
      ]
     },
     "execution_count": 10,
     "metadata": {},
     "output_type": "execute_result"
    }
   ],
   "source": [
    "similarities"
   ]
  }
 ],
 "metadata": {
  "kernelspec": {
   "display_name": "Python 3 (ipykernel)",
   "language": "python",
   "name": "python3"
  },
  "language_info": {
   "codemirror_mode": {
    "name": "ipython",
    "version": 3
   },
   "file_extension": ".py",
   "mimetype": "text/x-python",
   "name": "python",
   "nbconvert_exporter": "python",
   "pygments_lexer": "ipython3",
   "version": "3.11.9"
  }
 },
 "nbformat": 4,
 "nbformat_minor": 1
}
